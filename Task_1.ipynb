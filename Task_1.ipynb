{
 "cells": [
  {
   "cell_type": "code",
   "execution_count": 2,
   "id": "98fac5ca",
   "metadata": {},
   "outputs": [],
   "source": [
    "import pandas as pd\n",
    "import numpy as np\n",
    "\n",
    "data = pd.read_csv('data.csv', dtype='unicode')"
   ]
  },
  {
   "cell_type": "code",
   "execution_count": 6,
   "id": "4e1c3685",
   "metadata": {},
   "outputs": [],
   "source": [
    "# data.describe()"
   ]
  },
  {
   "cell_type": "code",
   "execution_count": 11,
   "id": "6bea600c",
   "metadata": {},
   "outputs": [
    {
     "name": "stdout",
     "output_type": "stream",
     "text": [
      "<class 'pandas.core.frame.DataFrame'>\n",
      "RangeIndex: 29983 entries, 0 to 29982\n",
      "Data columns (total 36 columns):\n",
      " #   Column                        Non-Null Count  Dtype \n",
      "---  ------                        --------------  ----- \n",
      " 0   crawl_timestamp               29983 non-null  object\n",
      " 1   job_title                     29983 non-null  object\n",
      " 2   company_name                  29983 non-null  object\n",
      " 3   city                          29983 non-null  object\n",
      " 4   state                         29983 non-null  object\n",
      " 5   country                       29974 non-null  object\n",
      " 6   post_date                     29983 non-null  object\n",
      " 7   job_description               29983 non-null  object\n",
      " 8   job_type                      29751 non-null  object\n",
      " 9   inferred_salary_time_unit     29983 non-null  object\n",
      " 10  company_description           0 non-null      object\n",
      " 11  salary_offered                4127 non-null   object\n",
      " 12  job_board                     29983 non-null  object\n",
      " 13  geo                           29983 non-null  object\n",
      " 14  job_post_lang                 29983 non-null  object\n",
      " 15  valid_through                 29974 non-null  object\n",
      " 16  inferred_iso2_lang_code       29981 non-null  object\n",
      " 17  inferred_iso3_lang_code       29981 non-null  object\n",
      " 18  site_name                     29981 non-null  object\n",
      " 19  domain                        29981 non-null  object\n",
      " 20  postdate_yyyymmdd             29981 non-null  object\n",
      " 21  has_expired                   29981 non-null  object\n",
      " 22  last_expiry_check_date        29981 non-null  object\n",
      " 23  latest_expiry_check_date      29981 non-null  object\n",
      " 24  duplicate_status              0 non-null      object\n",
      " 25  postdate_in_indexname_format  29981 non-null  object\n",
      " 26  inferred_city                 27852 non-null  object\n",
      " 27  inferred_state                29981 non-null  object\n",
      " 28  inferred_country              29981 non-null  object\n",
      " 29  fitness_score                 29981 non-null  object\n",
      " 30  inferred_salary_from          4125 non-null   object\n",
      " 31  inferred_salary_to            4125 non-null   object\n",
      " 32  inferred_salary_currency      3516 non-null   object\n",
      " 33  is_consumed_job               215 non-null    object\n",
      " 34  job_requirements              3 non-null      object\n",
      " 35  contact_email                 12 non-null     object\n",
      "dtypes: object(36)\n",
      "memory usage: 8.2+ MB\n"
     ]
    }
   ],
   "source": [
    "data.info()\n",
    "# data.isnull().values.any()"
   ]
  },
  {
   "cell_type": "code",
   "execution_count": 16,
   "id": "1748f313",
   "metadata": {},
   "outputs": [
    {
     "data": {
      "text/plain": [
       "Retail Merchandiser           375\n",
       "Amazon Picker/Packer          206\n",
       "Amazon Warehouse Worker       197\n",
       "Amazon Order Picker           195\n",
       "Amazon Warehouse Associate    175\n",
       "Name: job_title, dtype: int64"
      ]
     },
     "execution_count": 16,
     "metadata": {},
     "output_type": "execute_result"
    }
   ],
   "source": [
    "data[\"job_title\"].value_counts().head()"
   ]
  },
  {
   "cell_type": "markdown",
   "id": "a08a8056",
   "metadata": {},
   "source": [
    "### Which job title was posted the most times?      \n",
    "Retail Merchandiser 375"
   ]
  },
  {
   "cell_type": "code",
   "execution_count": 15,
   "id": "ccbb57e6",
   "metadata": {},
   "outputs": [
    {
     "data": {
      "text/plain": [
       "Amazon Fulfillment         7501\n",
       "GPAC                        924\n",
       "LanguageLine Solutions      872\n",
       "Lowe's Home Improvement     861\n",
       "CDL Career Now              545\n",
       "Name: company_name, dtype: int64"
      ]
     },
     "execution_count": 15,
     "metadata": {},
     "output_type": "execute_result"
    }
   ],
   "source": [
    "data[\"company_name\"].value_counts().head()"
   ]
  },
  {
   "cell_type": "markdown",
   "id": "5d0bef08",
   "metadata": {},
   "source": [
    "### Which company posted the most amount of jobs?  \n",
    "    Amazon Fulfillment 7501"
   ]
  },
  {
   "cell_type": "code",
   "execution_count": 14,
   "id": "22d77741",
   "metadata": {},
   "outputs": [
    {
     "data": {
      "text/plain": [
       "company_name\n",
       "Amazon Fulfillment         7501\n",
       "GPAC                        924\n",
       "LanguageLine Solutions      872\n",
       "Lowe's Home Improvement     861\n",
       "CDL Career Now              545\n",
       "Name: post_date, dtype: int64"
      ]
     },
     "execution_count": 14,
     "metadata": {},
     "output_type": "execute_result"
    }
   ],
   "source": [
    "data.groupby(\"company_name\")[\"post_date\"].count().sort_values(ascending = False).head()"
   ]
  },
  {
   "cell_type": "markdown",
   "id": "34ca2d96",
   "metadata": {},
   "source": [
    "### Which city offered the most jobs?"
   ]
  },
  {
   "cell_type": "code",
   "execution_count": 17,
   "id": "3b0bf2ef",
   "metadata": {},
   "outputs": [
    {
     "data": {
      "text/plain": [
       "city\n",
       "Boston        262\n",
       "Chicago       218\n",
       "Charlotte     216\n",
       "Cincinnati    212\n",
       "Portland      211\n",
       "Name: post_date, dtype: int64"
      ]
     },
     "execution_count": 17,
     "metadata": {},
     "output_type": "execute_result"
    }
   ],
   "source": [
    "data.groupby(\"city\")[\"post_date\"].count().sort_values(ascending = False).head()"
   ]
  },
  {
   "cell_type": "markdown",
   "id": "c3b63427",
   "metadata": {},
   "source": [
    "### Ans : Boston 262"
   ]
  },
  {
   "cell_type": "markdown",
   "id": "91ed115f",
   "metadata": {},
   "source": [
    "### Which state offered the most jobs?"
   ]
  },
  {
   "cell_type": "code",
   "execution_count": 18,
   "id": "1122fc59",
   "metadata": {},
   "outputs": [
    {
     "data": {
      "text/plain": [
       "state\n",
       "CA    2772\n",
       "NJ    1862\n",
       "MA    1688\n",
       "PA    1599\n",
       "TX    1593\n",
       "Name: post_date, dtype: int64"
      ]
     },
     "execution_count": 18,
     "metadata": {},
     "output_type": "execute_result"
    }
   ],
   "source": [
    "data.groupby(\"state\")[\"post_date\"].count().sort_values(ascending = False).head()"
   ]
  },
  {
   "cell_type": "markdown",
   "id": "1bf23bdc",
   "metadata": {},
   "source": [
    "### Ans : CA 2772"
   ]
  },
  {
   "cell_type": "code",
   "execution_count": 35,
   "id": "848bb435",
   "metadata": {},
   "outputs": [
    {
     "data": {
      "text/plain": [
       "<AxesSubplot:>"
      ]
     },
     "execution_count": 35,
     "metadata": {},
     "output_type": "execute_result"
    },
    {
     "data": {
      "image/png": "[encoded data removed]",
      "text/plain": [
       "<Figure size 1080x360 with 1 Axes>"
      ]
     },
     "metadata": {
      "needs_background": "light"
     },
     "output_type": "display_data"
    }
   ],
   "source": [
    "df = data['job_type'].value_counts()\n",
    "df\n",
    "df.plot(kind='bar', figsize=(15,5), rot=0)"
   ]
  },
  {
   "cell_type": "code",
   "execution_count": null,
   "id": "6104cc8a",
   "metadata": {},
   "outputs": [],
   "source": []
  }
 ],
 "metadata": {
  "kernelspec": {
   "display_name": "Python 3",
   "language": "python",
   "name": "python3"
  },
  "language_info": {
   "codemirror_mode": {
    "name": "ipython",
    "version": 3
   },
   "file_extension": ".py",
   "mimetype": "text/x-python",
   "name": "python",
   "nbconvert_exporter": "python",
   "pygments_lexer": "ipython3",
   "version": "3.9.1"
  }
 },
 "nbformat": 4,
 "nbformat_minor": 5
}
