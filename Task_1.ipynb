{
 "cells": [
  {
   "cell_type": "code",
   "execution_count": 1,
   "id": "98fac5ca",
   "metadata": {},
   "outputs": [],
   "source": [
    "import pandas as pd\n",
    "import numpy as np\n",
    "\n",
    "data = pd.read_csv('data.csv', dtype='unicode')"
   ]
  },
  {
   "cell_type": "code",
   "execution_count": 90,
   "id": "4e1c3685",
   "metadata": {},
   "outputs": [
    {
     "data": {
      "text/html": [
       "<div>\n",
       "<style scoped>\n",
       "    .dataframe tbody tr th:only-of-type {\n",
       "        vertical-align: middle;\n",
       "    }\n",
       "\n",
       "    .dataframe tbody tr th {\n",
       "        vertical-align: top;\n",
       "    }\n",
       "\n",
       "    .dataframe thead th {\n",
       "        text-align: right;\n",
       "    }\n",
       "</style>\n",
       "<table border=\"1\" class=\"dataframe\">\n",
       "  <thead>\n",
       "    <tr style=\"text-align: right;\">\n",
       "      <th></th>\n",
       "      <th>crawl_timestamp</th>\n",
       "      <th>job_title</th>\n",
       "      <th>company_name</th>\n",
       "      <th>city</th>\n",
       "      <th>state</th>\n",
       "      <th>country</th>\n",
       "      <th>post_date</th>\n",
       "      <th>job_description</th>\n",
       "      <th>job_type</th>\n",
       "      <th>inferred_salary_time_unit</th>\n",
       "      <th>...</th>\n",
       "      <th>inferred_state</th>\n",
       "      <th>inferred_country</th>\n",
       "      <th>fitness_score</th>\n",
       "      <th>inferred_salary_from</th>\n",
       "      <th>inferred_salary_to</th>\n",
       "      <th>inferred_salary_currency</th>\n",
       "      <th>is_consumed_job</th>\n",
       "      <th>job_requirements</th>\n",
       "      <th>contact_email</th>\n",
       "      <th>month</th>\n",
       "    </tr>\n",
       "  </thead>\n",
       "  <tbody>\n",
       "    <tr>\n",
       "      <th>0</th>\n",
       "      <td>2020-06-26 01:54:03 +0000</td>\n",
       "      <td>Asphalt/Concrete Senior Project Manager</td>\n",
       "      <td>GPAC</td>\n",
       "      <td>Houston</td>\n",
       "      <td>TX</td>\n",
       "      <td>US</td>\n",
       "      <td>2020-06-25</td>\n",
       "      <td>SR. PROJECT MANAGER WANTED!!! My client is a M...</td>\n",
       "      <td>Full-Time</td>\n",
       "      <td>/</td>\n",
       "      <td>...</td>\n",
       "      <td>Texas</td>\n",
       "      <td>United states</td>\n",
       "      <td>10</td>\n",
       "      <td>NaN</td>\n",
       "      <td>NaN</td>\n",
       "      <td>NaN</td>\n",
       "      <td>NaN</td>\n",
       "      <td>NaN</td>\n",
       "      <td>NaN</td>\n",
       "      <td>2020-06</td>\n",
       "    </tr>\n",
       "    <tr>\n",
       "      <th>1</th>\n",
       "      <td>2020-05-17 01:21:05 +0000</td>\n",
       "      <td>Amazon Warehouse Team - Full Time</td>\n",
       "      <td>Amazon Fulfillment</td>\n",
       "      <td>Cincinnati</td>\n",
       "      <td>OH</td>\n",
       "      <td>US</td>\n",
       "      <td>2020-05-16</td>\n",
       "      <td>Shifts: Overnight, Early Morning, Day, Evening...</td>\n",
       "      <td>Full-Time</td>\n",
       "      <td>/</td>\n",
       "      <td>...</td>\n",
       "      <td>Ohio</td>\n",
       "      <td>United states</td>\n",
       "      <td>10</td>\n",
       "      <td>NaN</td>\n",
       "      <td>NaN</td>\n",
       "      <td>NaN</td>\n",
       "      <td>NaN</td>\n",
       "      <td>NaN</td>\n",
       "      <td>NaN</td>\n",
       "      <td>2020-05</td>\n",
       "    </tr>\n",
       "    <tr>\n",
       "      <th>2</th>\n",
       "      <td>2020-06-27 04:53:42 +0000</td>\n",
       "      <td>Amazon Warehouse Associate - Morning Shifts Av...</td>\n",
       "      <td>Amazon Fulfillment</td>\n",
       "      <td>Peabody</td>\n",
       "      <td>MA</td>\n",
       "      <td>US</td>\n",
       "      <td>2020-06-26</td>\n",
       "      <td>Shifts: Early Morning, Day, Evening Location: ...</td>\n",
       "      <td>Full-Time</td>\n",
       "      <td>/</td>\n",
       "      <td>...</td>\n",
       "      <td>Massachusetts</td>\n",
       "      <td>United states</td>\n",
       "      <td>10</td>\n",
       "      <td>NaN</td>\n",
       "      <td>NaN</td>\n",
       "      <td>NaN</td>\n",
       "      <td>NaN</td>\n",
       "      <td>NaN</td>\n",
       "      <td>NaN</td>\n",
       "      <td>2020-06</td>\n",
       "    </tr>\n",
       "    <tr>\n",
       "      <th>3</th>\n",
       "      <td>2020-06-03 01:21:32 +0000</td>\n",
       "      <td>Assembly Electrical</td>\n",
       "      <td>Manpower</td>\n",
       "      <td>Villard</td>\n",
       "      <td>MN</td>\n",
       "      <td>US</td>\n",
       "      <td>2020-02-06</td>\n",
       "      <td>Do you pride yourself on attention to detail a...</td>\n",
       "      <td>Full-Time</td>\n",
       "      <td>/hour</td>\n",
       "      <td>...</td>\n",
       "      <td>Minnesota</td>\n",
       "      <td>United states</td>\n",
       "      <td>10</td>\n",
       "      <td>14</td>\n",
       "      <td>14</td>\n",
       "      <td>$</td>\n",
       "      <td>NaN</td>\n",
       "      <td>NaN</td>\n",
       "      <td>NaN</td>\n",
       "      <td>2020-02</td>\n",
       "    </tr>\n",
       "    <tr>\n",
       "      <th>4</th>\n",
       "      <td>2020-05-23 01:19:07 +0000</td>\n",
       "      <td>Graphics Designer</td>\n",
       "      <td>The North West Company - U.S.</td>\n",
       "      <td>Anchorage</td>\n",
       "      <td>AK</td>\n",
       "      <td>US</td>\n",
       "      <td>2020-05-22</td>\n",
       "      <td>In your role as Graphics Designer for Alaska C...</td>\n",
       "      <td>Full-Time</td>\n",
       "      <td>/</td>\n",
       "      <td>...</td>\n",
       "      <td>Alaska</td>\n",
       "      <td>United states</td>\n",
       "      <td>10</td>\n",
       "      <td>NaN</td>\n",
       "      <td>NaN</td>\n",
       "      <td>NaN</td>\n",
       "      <td>NaN</td>\n",
       "      <td>NaN</td>\n",
       "      <td>NaN</td>\n",
       "      <td>2020-05</td>\n",
       "    </tr>\n",
       "    <tr>\n",
       "      <th>5</th>\n",
       "      <td>2020-05-25 10:04:56 +0000</td>\n",
       "      <td>Customer Service Representative, Full or Part ...</td>\n",
       "      <td>Circle K</td>\n",
       "      <td>Urbana</td>\n",
       "      <td>IL</td>\n",
       "      <td>US</td>\n",
       "      <td>2020-05-24</td>\n",
       "      <td>may change periodically as required by busines...</td>\n",
       "      <td>Full-Time</td>\n",
       "      <td>/</td>\n",
       "      <td>...</td>\n",
       "      <td>Illinois</td>\n",
       "      <td>United states</td>\n",
       "      <td>10</td>\n",
       "      <td>NaN</td>\n",
       "      <td>NaN</td>\n",
       "      <td>NaN</td>\n",
       "      <td>NaN</td>\n",
       "      <td>NaN</td>\n",
       "      <td>NaN</td>\n",
       "      <td>2020-05</td>\n",
       "    </tr>\n",
       "    <tr>\n",
       "      <th>6</th>\n",
       "      <td>2020-05-23 01:13:40 +0000</td>\n",
       "      <td>Receptionist</td>\n",
       "      <td>Genesis Healthcare Corporation</td>\n",
       "      <td>South Brunswick Township</td>\n",
       "      <td>NJ</td>\n",
       "      <td>US</td>\n",
       "      <td>2020-05-22</td>\n",
       "      <td>Genesis HealthCare is one of the nation's lead...</td>\n",
       "      <td>Per Diem</td>\n",
       "      <td>/</td>\n",
       "      <td>...</td>\n",
       "      <td>New jersey</td>\n",
       "      <td>United states</td>\n",
       "      <td>10</td>\n",
       "      <td>NaN</td>\n",
       "      <td>NaN</td>\n",
       "      <td>NaN</td>\n",
       "      <td>NaN</td>\n",
       "      <td>NaN</td>\n",
       "      <td>NaN</td>\n",
       "      <td>2020-05</td>\n",
       "    </tr>\n",
       "    <tr>\n",
       "      <th>7</th>\n",
       "      <td>2020-06-25 01:48:48 +0000</td>\n",
       "      <td>U-Haul Moving Center General Manager</td>\n",
       "      <td>Talentify</td>\n",
       "      <td>Gretna</td>\n",
       "      <td>LA</td>\n",
       "      <td>US</td>\n",
       "      <td>2020-06-24</td>\n",
       "      <td>Location: No 4 Westbank Exp, Gretna, Louisiana...</td>\n",
       "      <td>Full-Time</td>\n",
       "      <td>/</td>\n",
       "      <td>...</td>\n",
       "      <td>Louisiana</td>\n",
       "      <td>United states</td>\n",
       "      <td>10</td>\n",
       "      <td>NaN</td>\n",
       "      <td>NaN</td>\n",
       "      <td>NaN</td>\n",
       "      <td>NaN</td>\n",
       "      <td>NaN</td>\n",
       "      <td>NaN</td>\n",
       "      <td>2020-06</td>\n",
       "    </tr>\n",
       "    <tr>\n",
       "      <th>8</th>\n",
       "      <td>2020-05-18 01:07:37 +0000</td>\n",
       "      <td>Staff Accountant</td>\n",
       "      <td>Volt</td>\n",
       "      <td>Stockton</td>\n",
       "      <td>CA</td>\n",
       "      <td>US</td>\n",
       "      <td>2020-05-17</td>\n",
       "      <td>VOLT has an immediate opening for a Staff Acco...</td>\n",
       "      <td>Full-Time</td>\n",
       "      <td>/</td>\n",
       "      <td>...</td>\n",
       "      <td>California</td>\n",
       "      <td>United states</td>\n",
       "      <td>10</td>\n",
       "      <td>NaN</td>\n",
       "      <td>NaN</td>\n",
       "      <td>NaN</td>\n",
       "      <td>NaN</td>\n",
       "      <td>NaN</td>\n",
       "      <td>NaN</td>\n",
       "      <td>2020-05</td>\n",
       "    </tr>\n",
       "    <tr>\n",
       "      <th>9</th>\n",
       "      <td>2020-05-29 01:16:51 +0000</td>\n",
       "      <td>Package Handler (Non-DOT)/Part Time/PM Shift/S...</td>\n",
       "      <td>FedEx</td>\n",
       "      <td>Tampa</td>\n",
       "      <td>FL</td>\n",
       "      <td>US</td>\n",
       "      <td>2020-05-28</td>\n",
       "      <td>Job Title: Package Handler (Non-DOT)/Part Time...</td>\n",
       "      <td>Part-Time</td>\n",
       "      <td>/</td>\n",
       "      <td>...</td>\n",
       "      <td>Florida</td>\n",
       "      <td>United states</td>\n",
       "      <td>10</td>\n",
       "      <td>NaN</td>\n",
       "      <td>NaN</td>\n",
       "      <td>NaN</td>\n",
       "      <td>NaN</td>\n",
       "      <td>NaN</td>\n",
       "      <td>NaN</td>\n",
       "      <td>2020-05</td>\n",
       "    </tr>\n",
       "  </tbody>\n",
       "</table>\n",
       "<p>10 rows × 37 columns</p>\n",
       "</div>"
      ],
      "text/plain": [
       "             crawl_timestamp  \\\n",
       "0  2020-06-26 01:54:03 +0000   \n",
       "1  2020-05-17 01:21:05 +0000   \n",
       "2  2020-06-27 04:53:42 +0000   \n",
       "3  2020-06-03 01:21:32 +0000   \n",
       "4  2020-05-23 01:19:07 +0000   \n",
       "5  2020-05-25 10:04:56 +0000   \n",
       "6  2020-05-23 01:13:40 +0000   \n",
       "7  2020-06-25 01:48:48 +0000   \n",
       "8  2020-05-18 01:07:37 +0000   \n",
       "9  2020-05-29 01:16:51 +0000   \n",
       "\n",
       "                                           job_title  \\\n",
       "0            Asphalt/Concrete Senior Project Manager   \n",
       "1                  Amazon Warehouse Team - Full Time   \n",
       "2  Amazon Warehouse Associate - Morning Shifts Av...   \n",
       "3                                Assembly Electrical   \n",
       "4                                  Graphics Designer   \n",
       "5  Customer Service Representative, Full or Part ...   \n",
       "6                                       Receptionist   \n",
       "7               U-Haul Moving Center General Manager   \n",
       "8                                   Staff Accountant   \n",
       "9  Package Handler (Non-DOT)/Part Time/PM Shift/S...   \n",
       "\n",
       "                     company_name                      city state country  \\\n",
       "0                            GPAC                   Houston    TX      US   \n",
       "1              Amazon Fulfillment                Cincinnati    OH      US   \n",
       "2              Amazon Fulfillment                   Peabody    MA      US   \n",
       "3                        Manpower                   Villard    MN      US   \n",
       "4   The North West Company - U.S.                 Anchorage    AK      US   \n",
       "5                        Circle K                    Urbana    IL      US   \n",
       "6  Genesis Healthcare Corporation  South Brunswick Township    NJ      US   \n",
       "7                       Talentify                    Gretna    LA      US   \n",
       "8                            Volt                  Stockton    CA      US   \n",
       "9                           FedEx                     Tampa    FL      US   \n",
       "\n",
       "   post_date                                    job_description   job_type  \\\n",
       "0 2020-06-25  SR. PROJECT MANAGER WANTED!!! My client is a M...  Full-Time   \n",
       "1 2020-05-16  Shifts: Overnight, Early Morning, Day, Evening...  Full-Time   \n",
       "2 2020-06-26  Shifts: Early Morning, Day, Evening Location: ...  Full-Time   \n",
       "3 2020-02-06  Do you pride yourself on attention to detail a...  Full-Time   \n",
       "4 2020-05-22  In your role as Graphics Designer for Alaska C...  Full-Time   \n",
       "5 2020-05-24  may change periodically as required by busines...  Full-Time   \n",
       "6 2020-05-22  Genesis HealthCare is one of the nation's lead...   Per Diem   \n",
       "7 2020-06-24  Location: No 4 Westbank Exp, Gretna, Louisiana...  Full-Time   \n",
       "8 2020-05-17  VOLT has an immediate opening for a Staff Acco...  Full-Time   \n",
       "9 2020-05-28  Job Title: Package Handler (Non-DOT)/Part Time...  Part-Time   \n",
       "\n",
       "  inferred_salary_time_unit  ... inferred_state inferred_country  \\\n",
       "0                         /  ...          Texas    United states   \n",
       "1                         /  ...           Ohio    United states   \n",
       "2                         /  ...  Massachusetts    United states   \n",
       "3                     /hour  ...      Minnesota    United states   \n",
       "4                         /  ...         Alaska    United states   \n",
       "5                         /  ...       Illinois    United states   \n",
       "6                         /  ...     New jersey    United states   \n",
       "7                         /  ...      Louisiana    United states   \n",
       "8                         /  ...     California    United states   \n",
       "9                         /  ...        Florida    United states   \n",
       "\n",
       "  fitness_score inferred_salary_from inferred_salary_to  \\\n",
       "0            10                  NaN                NaN   \n",
       "1            10                  NaN                NaN   \n",
       "2            10                  NaN                NaN   \n",
       "3            10                   14                 14   \n",
       "4            10                  NaN                NaN   \n",
       "5            10                  NaN                NaN   \n",
       "6            10                  NaN                NaN   \n",
       "7            10                  NaN                NaN   \n",
       "8            10                  NaN                NaN   \n",
       "9            10                  NaN                NaN   \n",
       "\n",
       "  inferred_salary_currency is_consumed_job job_requirements contact_email  \\\n",
       "0                      NaN             NaN              NaN           NaN   \n",
       "1                      NaN             NaN              NaN           NaN   \n",
       "2                      NaN             NaN              NaN           NaN   \n",
       "3                        $             NaN              NaN           NaN   \n",
       "4                      NaN             NaN              NaN           NaN   \n",
       "5                      NaN             NaN              NaN           NaN   \n",
       "6                      NaN             NaN              NaN           NaN   \n",
       "7                      NaN             NaN              NaN           NaN   \n",
       "8                      NaN             NaN              NaN           NaN   \n",
       "9                      NaN             NaN              NaN           NaN   \n",
       "\n",
       "     month  \n",
       "0  2020-06  \n",
       "1  2020-05  \n",
       "2  2020-06  \n",
       "3  2020-02  \n",
       "4  2020-05  \n",
       "5  2020-05  \n",
       "6  2020-05  \n",
       "7  2020-06  \n",
       "8  2020-05  \n",
       "9  2020-05  \n",
       "\n",
       "[10 rows x 37 columns]"
      ]
     },
     "execution_count": 90,
     "metadata": {},
     "output_type": "execute_result"
    }
   ],
   "source": [
    "data.head(10)"
   ]
  },
  {
   "cell_type": "code",
   "execution_count": 58,
   "id": "6bea600c",
   "metadata": {},
   "outputs": [
    {
     "name": "stdout",
     "output_type": "stream",
     "text": [
      "<class 'pandas.core.frame.DataFrame'>\n",
      "RangeIndex: 29983 entries, 0 to 29982\n",
      "Data columns (total 36 columns):\n",
      " #   Column                        Non-Null Count  Dtype \n",
      "---  ------                        --------------  ----- \n",
      " 0   crawl_timestamp               29983 non-null  object\n",
      " 1   job_title                     29983 non-null  object\n",
      " 2   company_name                  29983 non-null  object\n",
      " 3   city                          29983 non-null  object\n",
      " 4   state                         29983 non-null  object\n",
      " 5   country                       29974 non-null  object\n",
      " 6   post_date                     29983 non-null  object\n",
      " 7   job_description               29983 non-null  object\n",
      " 8   job_type                      29751 non-null  object\n",
      " 9   inferred_salary_time_unit     29983 non-null  object\n",
      " 10  company_description           0 non-null      object\n",
      " 11  salary_offered                4127 non-null   object\n",
      " 12  job_board                     29983 non-null  object\n",
      " 13  geo                           29983 non-null  object\n",
      " 14  job_post_lang                 29983 non-null  object\n",
      " 15  valid_through                 29974 non-null  object\n",
      " 16  inferred_iso2_lang_code       29981 non-null  object\n",
      " 17  inferred_iso3_lang_code       29981 non-null  object\n",
      " 18  site_name                     29981 non-null  object\n",
      " 19  domain                        29981 non-null  object\n",
      " 20  postdate_yyyymmdd             29981 non-null  object\n",
      " 21  has_expired                   29981 non-null  object\n",
      " 22  last_expiry_check_date        29981 non-null  object\n",
      " 23  latest_expiry_check_date      29981 non-null  object\n",
      " 24  duplicate_status              0 non-null      object\n",
      " 25  postdate_in_indexname_format  29981 non-null  object\n",
      " 26  inferred_city                 27852 non-null  object\n",
      " 27  inferred_state                29981 non-null  object\n",
      " 28  inferred_country              29981 non-null  object\n",
      " 29  fitness_score                 29981 non-null  object\n",
      " 30  inferred_salary_from          4125 non-null   object\n",
      " 31  inferred_salary_to            4125 non-null   object\n",
      " 32  inferred_salary_currency      3516 non-null   object\n",
      " 33  is_consumed_job               215 non-null    object\n",
      " 34  job_requirements              3 non-null      object\n",
      " 35  contact_email                 12 non-null     object\n",
      "dtypes: object(36)\n",
      "memory usage: 8.2+ MB\n"
     ]
    }
   ],
   "source": [
    "data.info()"
   ]
  },
  {
   "cell_type": "code",
   "execution_count": 57,
   "id": "b1f70efc",
   "metadata": {},
   "outputs": [],
   "source": [
    "# data.isnull().sum()"
   ]
  },
  {
   "cell_type": "code",
   "execution_count": 46,
   "id": "92ef0add",
   "metadata": {},
   "outputs": [],
   "source": [
    "missing_values = [\"na\",\"N/a\",np.nan]\n",
    "df= pd.read_csv('data.csv',na_values=missing_values,dtype='unicode')"
   ]
  },
  {
   "cell_type": "code",
   "execution_count": 47,
   "id": "708bd334",
   "metadata": {},
   "outputs": [],
   "source": [
    "# data.isnull().sum()"
   ]
  },
  {
   "cell_type": "code",
   "execution_count": 48,
   "id": "ddf710e9",
   "metadata": {},
   "outputs": [],
   "source": [
    "to_drop = ['company_description','duplicate_status','contact_email']\n",
    "df.drop(to_drop, inplace=True, axis=1)"
   ]
  },
  {
   "cell_type": "code",
   "execution_count": 51,
   "id": "ba4cd590",
   "metadata": {},
   "outputs": [],
   "source": [
    "# df.info()"
   ]
  },
  {
   "cell_type": "code",
   "execution_count": null,
   "id": "15fccf5e",
   "metadata": {},
   "outputs": [],
   "source": []
  },
  {
   "cell_type": "code",
   "execution_count": null,
   "id": "1d201227",
   "metadata": {},
   "outputs": [],
   "source": []
  },
  {
   "cell_type": "code",
   "execution_count": 17,
   "id": "1748f313",
   "metadata": {},
   "outputs": [
    {
     "data": {
      "text/plain": [
       "Retail Merchandiser           375\n",
       "Amazon Picker/Packer          206\n",
       "Amazon Warehouse Worker       197\n",
       "Amazon Order Picker           195\n",
       "Amazon Warehouse Associate    175\n",
       "Name: job_title, dtype: int64"
      ]
     },
     "execution_count": 17,
     "metadata": {},
     "output_type": "execute_result"
    }
   ],
   "source": [
    "data[\"job_title\"].value_counts().head()"
   ]
  },
  {
   "cell_type": "markdown",
   "id": "a08a8056",
   "metadata": {},
   "source": [
    "### Which job title was posted the most times?      \n",
    "Retail Merchandiser 375"
   ]
  },
  {
   "cell_type": "code",
   "execution_count": 5,
   "id": "ccbb57e6",
   "metadata": {},
   "outputs": [
    {
     "data": {
      "text/plain": [
       "Amazon Fulfillment         7501\n",
       "GPAC                        924\n",
       "LanguageLine Solutions      872\n",
       "Lowe's Home Improvement     861\n",
       "CDL Career Now              545\n",
       "Name: company_name, dtype: int64"
      ]
     },
     "execution_count": 5,
     "metadata": {},
     "output_type": "execute_result"
    }
   ],
   "source": [
    "data[\"company_name\"].value_counts().head()"
   ]
  },
  {
   "cell_type": "markdown",
   "id": "5d0bef08",
   "metadata": {},
   "source": [
    "### Which company posted the most amount of jobs?  \n",
    "    Amazon Fulfillment 7501"
   ]
  },
  {
   "cell_type": "code",
   "execution_count": 6,
   "id": "22d77741",
   "metadata": {},
   "outputs": [
    {
     "data": {
      "text/plain": [
       "company_name\n",
       "Amazon Fulfillment         7501\n",
       "GPAC                        924\n",
       "LanguageLine Solutions      872\n",
       "Lowe's Home Improvement     861\n",
       "CDL Career Now              545\n",
       "Name: post_date, dtype: int64"
      ]
     },
     "execution_count": 6,
     "metadata": {},
     "output_type": "execute_result"
    }
   ],
   "source": [
    "data.groupby(\"company_name\")[\"post_date\"].count().sort_values(ascending = False).head()"
   ]
  },
  {
   "cell_type": "markdown",
   "id": "34ca2d96",
   "metadata": {},
   "source": [
    "### Which city offered the most jobs?"
   ]
  },
  {
   "cell_type": "code",
   "execution_count": 7,
   "id": "3b0bf2ef",
   "metadata": {},
   "outputs": [
    {
     "data": {
      "text/plain": [
       "city\n",
       "Boston        262\n",
       "Chicago       218\n",
       "Charlotte     216\n",
       "Cincinnati    212\n",
       "Portland      211\n",
       "Name: post_date, dtype: int64"
      ]
     },
     "execution_count": 7,
     "metadata": {},
     "output_type": "execute_result"
    }
   ],
   "source": [
    "data.groupby(\"city\")[\"post_date\"].count().sort_values(ascending = False).head()"
   ]
  },
  {
   "cell_type": "markdown",
   "id": "c3b63427",
   "metadata": {},
   "source": [
    "### Ans : Boston 262"
   ]
  },
  {
   "cell_type": "markdown",
   "id": "91ed115f",
   "metadata": {},
   "source": [
    "### Which state offered the most jobs?"
   ]
  },
  {
   "cell_type": "code",
   "execution_count": 8,
   "id": "1122fc59",
   "metadata": {},
   "outputs": [
    {
     "data": {
      "text/plain": [
       "state\n",
       "CA    2772\n",
       "NJ    1862\n",
       "MA    1688\n",
       "PA    1599\n",
       "TX    1593\n",
       "Name: post_date, dtype: int64"
      ]
     },
     "execution_count": 8,
     "metadata": {},
     "output_type": "execute_result"
    }
   ],
   "source": [
    "data.groupby(\"state\")[\"post_date\"].count().sort_values(ascending = False).head()"
   ]
  },
  {
   "cell_type": "markdown",
   "id": "1bf23bdc",
   "metadata": {},
   "source": [
    "### Ans : CA 2772"
   ]
  },
  {
   "cell_type": "code",
   "execution_count": 44,
   "id": "848bb435",
   "metadata": {},
   "outputs": [
    {
     "data": {
      "text/plain": [
       "<AxesSubplot:>"
      ]
     },
     "execution_count": 44,
     "metadata": {},
     "output_type": "execute_result"
    },
    {
     "data": {
      "image/png": "[encoded data removed]",
      "text/plain": [
       "<Figure size 1080x432 with 1 Axes>"
      ]
     },
     "metadata": {
      "needs_background": "light"
     },
     "output_type": "display_data"
    }
   ],
   "source": [
    "df = data['job_type'].value_counts()\n",
    "df\n",
    "df.plot(kind='bar',figsize=(15,6),rot=0, ylim=(0,25000))"
   ]
  },
  {
   "cell_type": "code",
   "execution_count": 82,
   "id": "6104cc8a",
   "metadata": {},
   "outputs": [],
   "source": [
    "data['month'] = pd.to_datetime(data['post_date'])"
   ]
  },
  {
   "cell_type": "code",
   "execution_count": 88,
   "id": "e7f3f8df",
   "metadata": {},
   "outputs": [
    {
     "data": {
      "text/plain": [
       "<AxesSubplot:xlabel='month'>"
      ]
     },
     "execution_count": 88,
     "metadata": {},
     "output_type": "execute_result"
    },
    {
     "data": {
      "image/png": "[encoded data removed]",
      "text/plain": [
       "<Figure size 720x432 with 1 Axes>"
      ]
     },
     "metadata": {
      "needs_background": "light"
     },
     "output_type": "display_data"
    }
   ],
   "source": [
    "df= data.groupby(data['month'].dt.strftime('%B'))['post_date'].count()\n",
    "df\n",
    "df.plot(kind='bar',rot=0,figsize=(10,6))"
   ]
  },
  {
   "cell_type": "code",
   "execution_count": 89,
   "id": "c92c712b",
   "metadata": {},
   "outputs": [
    {
     "data": {
      "text/plain": [
       "<AxesSubplot:xlabel='month'>"
      ]
     },
     "execution_count": 89,
     "metadata": {},
     "output_type": "execute_result"
    },
    {
     "data": {
      "image/png": "[encoded data removed]",
      "text/plain": [
       "<Figure size 864x432 with 1 Axes>"
      ]
     },
     "metadata": {
      "needs_background": "light"
     },
     "output_type": "display_data"
    }
   ],
   "source": [
    "data['month'] = pd.to_datetime(data['post_date']).dt.to_period('M')\n",
    "df= data.groupby('month')['post_date'].count()\n",
    "df.plot(kind='bar',rot=0,figsize=(12,6))"
   ]
  },
  {
   "cell_type": "code",
   "execution_count": null,
   "id": "a9e5acb8",
   "metadata": {},
   "outputs": [],
   "source": []
  }
 ],
 "metadata": {
  "kernelspec": {
   "display_name": "Python 3",
   "language": "python",
   "name": "python3"
  },
  "language_info": {
   "codemirror_mode": {
    "name": "ipython",
    "version": 3
   },
   "file_extension": ".py",
   "mimetype": "text/x-python",
   "name": "python",
   "nbconvert_exporter": "python",
   "pygments_lexer": "ipython3",
   "version": "3.9.1"
  }
 },
 "nbformat": 4,
 "nbformat_minor": 5
}
