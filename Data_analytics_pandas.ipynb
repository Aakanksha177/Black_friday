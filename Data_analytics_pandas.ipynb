{
 "cells": [
  {
   "cell_type": "code",
   "execution_count": 4,
   "id": "63a4eb0e",
   "metadata": {},
   "outputs": [],
   "source": [
    "import pandas as pd"
   ]
  },
  {
   "cell_type": "code",
   "execution_count": 3,
   "id": "bed4eb89",
   "metadata": {},
   "outputs": [],
   "source": [
    "import numpy as np"
   ]
  },
  {
   "cell_type": "code",
   "execution_count": 5,
   "id": "a9620a90",
   "metadata": {},
   "outputs": [
    {
     "data": {
      "text/plain": [
       "0      1.0\n",
       "1      2.0\n",
       "2      3.0\n",
       "3      4.0\n",
       "4      5.0\n",
       "5      6.0\n",
       "6      NaN\n",
       "7      7.0\n",
       "8      8.0\n",
       "9      9.0\n",
       "10    10.0\n",
       "dtype: float64"
      ]
     },
     "execution_count": 5,
     "metadata": {},
     "output_type": "execute_result"
    }
   ],
   "source": [
    "#code to create a series\n",
    "s = pd.Series([1,2,3,4,5,6,np.nan,7,8,9,10])\n",
    "s"
   ]
  },
  {
   "cell_type": "code",
   "execution_count": 6,
   "id": "56778011",
   "metadata": {},
   "outputs": [
    {
     "data": {
      "text/html": [
       "<div>\n",
       "<style scoped>\n",
       "    .dataframe tbody tr th:only-of-type {\n",
       "        vertical-align: middle;\n",
       "    }\n",
       "\n",
       "    .dataframe tbody tr th {\n",
       "        vertical-align: top;\n",
       "    }\n",
       "\n",
       "    .dataframe thead th {\n",
       "        text-align: right;\n",
       "    }\n",
       "</style>\n",
       "<table border=\"1\" class=\"dataframe\">\n",
       "  <thead>\n",
       "    <tr style=\"text-align: right;\">\n",
       "      <th></th>\n",
       "      <th>G</th>\n",
       "      <th>A</th>\n",
       "      <th>B</th>\n",
       "      <th>C</th>\n",
       "      <th>D</th>\n",
       "    </tr>\n",
       "  </thead>\n",
       "  <tbody>\n",
       "    <tr>\n",
       "      <th>0</th>\n",
       "      <td>A</td>\n",
       "      <td>1</td>\n",
       "      <td>NaN</td>\n",
       "      <td>7.0</td>\n",
       "      <td>1.0</td>\n",
       "    </tr>\n",
       "    <tr>\n",
       "      <th>1</th>\n",
       "      <td>A</td>\n",
       "      <td>4</td>\n",
       "      <td>5.0</td>\n",
       "      <td>3.0</td>\n",
       "      <td>NaN</td>\n",
       "    </tr>\n",
       "    <tr>\n",
       "      <th>2</th>\n",
       "      <td>A</td>\n",
       "      <td>6</td>\n",
       "      <td>8.0</td>\n",
       "      <td>NaN</td>\n",
       "      <td>NaN</td>\n",
       "    </tr>\n",
       "    <tr>\n",
       "      <th>3</th>\n",
       "      <td>B</td>\n",
       "      <td>9</td>\n",
       "      <td>NaN</td>\n",
       "      <td>2.0</td>\n",
       "      <td>NaN</td>\n",
       "    </tr>\n",
       "  </tbody>\n",
       "</table>\n",
       "</div>"
      ],
      "text/plain": [
       "   G  A    B    C    D\n",
       "0  A  1  NaN  7.0  1.0\n",
       "1  A  4  5.0  3.0  NaN\n",
       "2  A  6  8.0  NaN  NaN\n",
       "3  B  9  NaN  2.0  NaN"
      ]
     },
     "execution_count": 6,
     "metadata": {},
     "output_type": "execute_result"
    }
   ],
   "source": [
    "dict = {'G': ['A','A','A','B'],\n",
    "        'A':[1, 4, 6, 9], \n",
    "        'B':[np.NaN, 5, 8, np.NaN], \n",
    "        'C':[7, 3, np.NaN, 2],\n",
    "        'D':[1, np.NaN, np.NaN, np.NaN] } \n",
    "  \n",
    "# creating dataframe from the\n",
    "# dictionary \n",
    "data = pd.DataFrame(dict) \n",
    "data"
   ]
  },
  {
   "cell_type": "code",
   "execution_count": 10,
   "id": "6fc222ca",
   "metadata": {},
   "outputs": [
    {
     "data": {
      "text/html": [
       "<div>\n",
       "<style scoped>\n",
       "    .dataframe tbody tr th:only-of-type {\n",
       "        vertical-align: middle;\n",
       "    }\n",
       "\n",
       "    .dataframe tbody tr th {\n",
       "        vertical-align: top;\n",
       "    }\n",
       "\n",
       "    .dataframe thead th {\n",
       "        text-align: right;\n",
       "    }\n",
       "</style>\n",
       "<table border=\"1\" class=\"dataframe\">\n",
       "  <thead>\n",
       "    <tr style=\"text-align: right;\">\n",
       "      <th></th>\n",
       "      <th>G</th>\n",
       "      <th>A</th>\n",
       "      <th>B</th>\n",
       "      <th>C</th>\n",
       "      <th>D</th>\n",
       "    </tr>\n",
       "  </thead>\n",
       "  <tbody>\n",
       "    <tr>\n",
       "      <th>0</th>\n",
       "      <td>NaN</td>\n",
       "      <td>1</td>\n",
       "      <td>NaN</td>\n",
       "      <td>NaN</td>\n",
       "      <td>NaN</td>\n",
       "    </tr>\n",
       "    <tr>\n",
       "      <th>1</th>\n",
       "      <td>NaN</td>\n",
       "      <td>4</td>\n",
       "      <td>5.0</td>\n",
       "      <td>NaN</td>\n",
       "      <td>NaN</td>\n",
       "    </tr>\n",
       "    <tr>\n",
       "      <th>2</th>\n",
       "      <td>NaN</td>\n",
       "      <td>6</td>\n",
       "      <td>8.0</td>\n",
       "      <td>NaN</td>\n",
       "      <td>NaN</td>\n",
       "    </tr>\n",
       "    <tr>\n",
       "      <th>3</th>\n",
       "      <td>NaN</td>\n",
       "      <td>9</td>\n",
       "      <td>NaN</td>\n",
       "      <td>NaN</td>\n",
       "      <td>NaN</td>\n",
       "    </tr>\n",
       "  </tbody>\n",
       "</table>\n",
       "</div>"
      ],
      "text/plain": [
       "     G  A    B   C   D\n",
       "0  NaN  1  NaN NaN NaN\n",
       "1  NaN  4  5.0 NaN NaN\n",
       "2  NaN  6  8.0 NaN NaN\n",
       "3  NaN  9  NaN NaN NaN"
      ]
     },
     "execution_count": 10,
     "metadata": {},
     "output_type": "execute_result"
    }
   ],
   "source": [
    "data.where(data[['A','B']]>0)"
   ]
  },
  {
   "cell_type": "code",
   "execution_count": null,
   "id": "fc948ca8",
   "metadata": {},
   "outputs": [],
   "source": []
  },
  {
   "cell_type": "code",
   "execution_count": null,
   "id": "966165f8",
   "metadata": {},
   "outputs": [],
   "source": []
  },
  {
   "cell_type": "code",
   "execution_count": null,
   "id": "c88db447",
   "metadata": {},
   "outputs": [],
   "source": []
  },
  {
   "cell_type": "code",
   "execution_count": null,
   "id": "212d0047",
   "metadata": {},
   "outputs": [],
   "source": []
  },
  {
   "cell_type": "code",
   "execution_count": null,
   "id": "73853433",
   "metadata": {},
   "outputs": [],
   "source": []
  },
  {
   "cell_type": "code",
   "execution_count": 9,
   "id": "9ae10f87",
   "metadata": {},
   "outputs": [
    {
     "data": {
      "text/plain": [
       "A    3\n",
       "B    1\n",
       "Name: G, dtype: int64"
      ]
     },
     "execution_count": 9,
     "metadata": {},
     "output_type": "execute_result"
    }
   ],
   "source": [
    "data['G'].value_counts()"
   ]
  },
  {
   "cell_type": "code",
   "execution_count": 19,
   "id": "9d003102",
   "metadata": {},
   "outputs": [
    {
     "data": {
      "text/plain": [
       "G\n",
       "A    2\n",
       "B    0\n",
       "Name: B, dtype: int64"
      ]
     },
     "execution_count": 19,
     "metadata": {},
     "output_type": "execute_result"
    }
   ],
   "source": [
    "data.groupby(\"G\")['B'].count()"
   ]
  },
  {
   "cell_type": "code",
   "execution_count": 5,
   "id": "e1bf00ee",
   "metadata": {},
   "outputs": [],
   "source": [
    "#this is a series \n",
    "d = pd.date_range(\"20210408\", periods=10)"
   ]
  },
  {
   "cell_type": "code",
   "execution_count": 6,
   "id": "a8ae8dc9",
   "metadata": {},
   "outputs": [
    {
     "data": {
      "text/plain": [
       "DatetimeIndex(['2021-04-08', '2021-04-09', '2021-04-10', '2021-04-11',\n",
       "               '2021-04-12', '2021-04-13', '2021-04-14', '2021-04-15',\n",
       "               '2021-04-16', '2021-04-17'],\n",
       "              dtype='datetime64[ns]', freq='D')"
      ]
     },
     "execution_count": 6,
     "metadata": {},
     "output_type": "execute_result"
    }
   ],
   "source": [
    "d"
   ]
  },
  {
   "cell_type": "code",
   "execution_count": 7,
   "id": "297afe6a",
   "metadata": {},
   "outputs": [],
   "source": [
    "#Now we will create a dataFrame\n",
    "df = pd.DataFrame(np.random.randn(10,4), index=d, columns=['A','B','C','D'])"
   ]
  },
  {
   "cell_type": "code",
   "execution_count": 8,
   "id": "0166710c",
   "metadata": {},
   "outputs": [
    {
     "data": {
      "text/html": [
       "<div>\n",
       "<style scoped>\n",
       "    .dataframe tbody tr th:only-of-type {\n",
       "        vertical-align: middle;\n",
       "    }\n",
       "\n",
       "    .dataframe tbody tr th {\n",
       "        vertical-align: top;\n",
       "    }\n",
       "\n",
       "    .dataframe thead th {\n",
       "        text-align: right;\n",
       "    }\n",
       "</style>\n",
       "<table border=\"1\" class=\"dataframe\">\n",
       "  <thead>\n",
       "    <tr style=\"text-align: right;\">\n",
       "      <th></th>\n",
       "      <th>A</th>\n",
       "      <th>B</th>\n",
       "      <th>C</th>\n",
       "      <th>D</th>\n",
       "    </tr>\n",
       "  </thead>\n",
       "  <tbody>\n",
       "    <tr>\n",
       "      <th>2021-04-08</th>\n",
       "      <td>-1.140093</td>\n",
       "      <td>-0.846299</td>\n",
       "      <td>-0.454721</td>\n",
       "      <td>0.052045</td>\n",
       "    </tr>\n",
       "    <tr>\n",
       "      <th>2021-04-09</th>\n",
       "      <td>0.196391</td>\n",
       "      <td>-0.367189</td>\n",
       "      <td>-2.313300</td>\n",
       "      <td>1.604434</td>\n",
       "    </tr>\n",
       "    <tr>\n",
       "      <th>2021-04-10</th>\n",
       "      <td>0.295353</td>\n",
       "      <td>0.118465</td>\n",
       "      <td>-0.126702</td>\n",
       "      <td>-1.089530</td>\n",
       "    </tr>\n",
       "    <tr>\n",
       "      <th>2021-04-11</th>\n",
       "      <td>1.144954</td>\n",
       "      <td>-0.019178</td>\n",
       "      <td>-0.909916</td>\n",
       "      <td>1.201310</td>\n",
       "    </tr>\n",
       "    <tr>\n",
       "      <th>2021-04-12</th>\n",
       "      <td>-2.030637</td>\n",
       "      <td>-0.145976</td>\n",
       "      <td>-0.641746</td>\n",
       "      <td>1.545143</td>\n",
       "    </tr>\n",
       "    <tr>\n",
       "      <th>2021-04-13</th>\n",
       "      <td>1.399026</td>\n",
       "      <td>0.499755</td>\n",
       "      <td>-0.746623</td>\n",
       "      <td>-0.682868</td>\n",
       "    </tr>\n",
       "    <tr>\n",
       "      <th>2021-04-14</th>\n",
       "      <td>-0.164900</td>\n",
       "      <td>0.114371</td>\n",
       "      <td>-1.376268</td>\n",
       "      <td>-0.023701</td>\n",
       "    </tr>\n",
       "    <tr>\n",
       "      <th>2021-04-15</th>\n",
       "      <td>0.191488</td>\n",
       "      <td>0.191629</td>\n",
       "      <td>1.093550</td>\n",
       "      <td>1.274845</td>\n",
       "    </tr>\n",
       "    <tr>\n",
       "      <th>2021-04-16</th>\n",
       "      <td>0.815851</td>\n",
       "      <td>-0.673989</td>\n",
       "      <td>-0.418809</td>\n",
       "      <td>1.127514</td>\n",
       "    </tr>\n",
       "    <tr>\n",
       "      <th>2021-04-17</th>\n",
       "      <td>-0.490368</td>\n",
       "      <td>-0.718141</td>\n",
       "      <td>0.887755</td>\n",
       "      <td>-0.254530</td>\n",
       "    </tr>\n",
       "  </tbody>\n",
       "</table>\n",
       "</div>"
      ],
      "text/plain": [
       "                   A         B         C         D\n",
       "2021-04-08 -1.140093 -0.846299 -0.454721  0.052045\n",
       "2021-04-09  0.196391 -0.367189 -2.313300  1.604434\n",
       "2021-04-10  0.295353  0.118465 -0.126702 -1.089530\n",
       "2021-04-11  1.144954 -0.019178 -0.909916  1.201310\n",
       "2021-04-12 -2.030637 -0.145976 -0.641746  1.545143\n",
       "2021-04-13  1.399026  0.499755 -0.746623 -0.682868\n",
       "2021-04-14 -0.164900  0.114371 -1.376268 -0.023701\n",
       "2021-04-15  0.191488  0.191629  1.093550  1.274845\n",
       "2021-04-16  0.815851 -0.673989 -0.418809  1.127514\n",
       "2021-04-17 -0.490368 -0.718141  0.887755 -0.254530"
      ]
     },
     "execution_count": 8,
     "metadata": {},
     "output_type": "execute_result"
    }
   ],
   "source": [
    "df"
   ]
  },
  {
   "cell_type": "code",
   "execution_count": 9,
   "id": "6d8ff403",
   "metadata": {},
   "outputs": [],
   "source": [
    "#create a dataframe by passing dictionary of objects that can be converted into a series\n",
    "df1 = pd.DataFrame({\n",
    "    'A' : [1,2,3,4],\n",
    "    'B' : pd.Timestamp(\"20210408\"),\n",
    "    'C' : pd.Series(1, index=list(range(4)), dtype='float32'),\n",
    "    'D' : np.array([5]*4, dtype='int32'),\n",
    "    'E' : pd.Categorical(['True','False','True','False']),\n",
    "    'F' : 'Akanksha'\n",
    "})"
   ]
  },
  {
   "cell_type": "code",
   "execution_count": 10,
   "id": "7fe02fe3",
   "metadata": {},
   "outputs": [
    {
     "data": {
      "text/html": [
       "<div>\n",
       "<style scoped>\n",
       "    .dataframe tbody tr th:only-of-type {\n",
       "        vertical-align: middle;\n",
       "    }\n",
       "\n",
       "    .dataframe tbody tr th {\n",
       "        vertical-align: top;\n",
       "    }\n",
       "\n",
       "    .dataframe thead th {\n",
       "        text-align: right;\n",
       "    }\n",
       "</style>\n",
       "<table border=\"1\" class=\"dataframe\">\n",
       "  <thead>\n",
       "    <tr style=\"text-align: right;\">\n",
       "      <th></th>\n",
       "      <th>A</th>\n",
       "      <th>B</th>\n",
       "      <th>C</th>\n",
       "      <th>D</th>\n",
       "      <th>E</th>\n",
       "      <th>F</th>\n",
       "    </tr>\n",
       "  </thead>\n",
       "  <tbody>\n",
       "    <tr>\n",
       "      <th>0</th>\n",
       "      <td>1</td>\n",
       "      <td>2021-04-08</td>\n",
       "      <td>1.0</td>\n",
       "      <td>5</td>\n",
       "      <td>True</td>\n",
       "      <td>Akanksha</td>\n",
       "    </tr>\n",
       "    <tr>\n",
       "      <th>1</th>\n",
       "      <td>2</td>\n",
       "      <td>2021-04-08</td>\n",
       "      <td>1.0</td>\n",
       "      <td>5</td>\n",
       "      <td>False</td>\n",
       "      <td>Akanksha</td>\n",
       "    </tr>\n",
       "    <tr>\n",
       "      <th>2</th>\n",
       "      <td>3</td>\n",
       "      <td>2021-04-08</td>\n",
       "      <td>1.0</td>\n",
       "      <td>5</td>\n",
       "      <td>True</td>\n",
       "      <td>Akanksha</td>\n",
       "    </tr>\n",
       "    <tr>\n",
       "      <th>3</th>\n",
       "      <td>4</td>\n",
       "      <td>2021-04-08</td>\n",
       "      <td>1.0</td>\n",
       "      <td>5</td>\n",
       "      <td>False</td>\n",
       "      <td>Akanksha</td>\n",
       "    </tr>\n",
       "  </tbody>\n",
       "</table>\n",
       "</div>"
      ],
      "text/plain": [
       "   A          B    C  D      E         F\n",
       "0  1 2021-04-08  1.0  5   True  Akanksha\n",
       "1  2 2021-04-08  1.0  5  False  Akanksha\n",
       "2  3 2021-04-08  1.0  5   True  Akanksha\n",
       "3  4 2021-04-08  1.0  5  False  Akanksha"
      ]
     },
     "execution_count": 10,
     "metadata": {},
     "output_type": "execute_result"
    }
   ],
   "source": [
    "df1"
   ]
  },
  {
   "cell_type": "code",
   "execution_count": 11,
   "id": "2739f088",
   "metadata": {},
   "outputs": [
    {
     "data": {
      "text/plain": [
       "A             int64\n",
       "B    datetime64[ns]\n",
       "C           float32\n",
       "D             int32\n",
       "E          category\n",
       "F            object\n",
       "dtype: object"
      ]
     },
     "execution_count": 11,
     "metadata": {},
     "output_type": "execute_result"
    }
   ],
   "source": [
    "df1.dtypes\n",
    "# the above command will print the datatypes of each column"
   ]
  },
  {
   "cell_type": "code",
   "execution_count": 12,
   "id": "178f564e",
   "metadata": {},
   "outputs": [
    {
     "data": {
      "text/html": [
       "<div>\n",
       "<style scoped>\n",
       "    .dataframe tbody tr th:only-of-type {\n",
       "        vertical-align: middle;\n",
       "    }\n",
       "\n",
       "    .dataframe tbody tr th {\n",
       "        vertical-align: top;\n",
       "    }\n",
       "\n",
       "    .dataframe thead th {\n",
       "        text-align: right;\n",
       "    }\n",
       "</style>\n",
       "<table border=\"1\" class=\"dataframe\">\n",
       "  <thead>\n",
       "    <tr style=\"text-align: right;\">\n",
       "      <th></th>\n",
       "      <th>A</th>\n",
       "      <th>B</th>\n",
       "      <th>C</th>\n",
       "      <th>D</th>\n",
       "    </tr>\n",
       "  </thead>\n",
       "  <tbody>\n",
       "    <tr>\n",
       "      <th>2021-04-08</th>\n",
       "      <td>-1.140093</td>\n",
       "      <td>-0.846299</td>\n",
       "      <td>-0.454721</td>\n",
       "      <td>0.052045</td>\n",
       "    </tr>\n",
       "    <tr>\n",
       "      <th>2021-04-09</th>\n",
       "      <td>0.196391</td>\n",
       "      <td>-0.367189</td>\n",
       "      <td>-2.313300</td>\n",
       "      <td>1.604434</td>\n",
       "    </tr>\n",
       "    <tr>\n",
       "      <th>2021-04-10</th>\n",
       "      <td>0.295353</td>\n",
       "      <td>0.118465</td>\n",
       "      <td>-0.126702</td>\n",
       "      <td>-1.089530</td>\n",
       "    </tr>\n",
       "    <tr>\n",
       "      <th>2021-04-11</th>\n",
       "      <td>1.144954</td>\n",
       "      <td>-0.019178</td>\n",
       "      <td>-0.909916</td>\n",
       "      <td>1.201310</td>\n",
       "    </tr>\n",
       "    <tr>\n",
       "      <th>2021-04-12</th>\n",
       "      <td>-2.030637</td>\n",
       "      <td>-0.145976</td>\n",
       "      <td>-0.641746</td>\n",
       "      <td>1.545143</td>\n",
       "    </tr>\n",
       "  </tbody>\n",
       "</table>\n",
       "</div>"
      ],
      "text/plain": [
       "                   A         B         C         D\n",
       "2021-04-08 -1.140093 -0.846299 -0.454721  0.052045\n",
       "2021-04-09  0.196391 -0.367189 -2.313300  1.604434\n",
       "2021-04-10  0.295353  0.118465 -0.126702 -1.089530\n",
       "2021-04-11  1.144954 -0.019178 -0.909916  1.201310\n",
       "2021-04-12 -2.030637 -0.145976 -0.641746  1.545143"
      ]
     },
     "execution_count": 12,
     "metadata": {},
     "output_type": "execute_result"
    }
   ],
   "source": [
    "df.head()\n",
    "#this will give you first five rows of the dataset"
   ]
  },
  {
   "cell_type": "code",
   "execution_count": 13,
   "id": "c8484b83",
   "metadata": {},
   "outputs": [
    {
     "data": {
      "text/html": [
       "<div>\n",
       "<style scoped>\n",
       "    .dataframe tbody tr th:only-of-type {\n",
       "        vertical-align: middle;\n",
       "    }\n",
       "\n",
       "    .dataframe tbody tr th {\n",
       "        vertical-align: top;\n",
       "    }\n",
       "\n",
       "    .dataframe thead th {\n",
       "        text-align: right;\n",
       "    }\n",
       "</style>\n",
       "<table border=\"1\" class=\"dataframe\">\n",
       "  <thead>\n",
       "    <tr style=\"text-align: right;\">\n",
       "      <th></th>\n",
       "      <th>A</th>\n",
       "      <th>B</th>\n",
       "      <th>C</th>\n",
       "      <th>D</th>\n",
       "    </tr>\n",
       "  </thead>\n",
       "  <tbody>\n",
       "    <tr>\n",
       "      <th>2021-04-13</th>\n",
       "      <td>1.399026</td>\n",
       "      <td>0.499755</td>\n",
       "      <td>-0.746623</td>\n",
       "      <td>-0.682868</td>\n",
       "    </tr>\n",
       "    <tr>\n",
       "      <th>2021-04-14</th>\n",
       "      <td>-0.164900</td>\n",
       "      <td>0.114371</td>\n",
       "      <td>-1.376268</td>\n",
       "      <td>-0.023701</td>\n",
       "    </tr>\n",
       "    <tr>\n",
       "      <th>2021-04-15</th>\n",
       "      <td>0.191488</td>\n",
       "      <td>0.191629</td>\n",
       "      <td>1.093550</td>\n",
       "      <td>1.274845</td>\n",
       "    </tr>\n",
       "    <tr>\n",
       "      <th>2021-04-16</th>\n",
       "      <td>0.815851</td>\n",
       "      <td>-0.673989</td>\n",
       "      <td>-0.418809</td>\n",
       "      <td>1.127514</td>\n",
       "    </tr>\n",
       "    <tr>\n",
       "      <th>2021-04-17</th>\n",
       "      <td>-0.490368</td>\n",
       "      <td>-0.718141</td>\n",
       "      <td>0.887755</td>\n",
       "      <td>-0.254530</td>\n",
       "    </tr>\n",
       "  </tbody>\n",
       "</table>\n",
       "</div>"
      ],
      "text/plain": [
       "                   A         B         C         D\n",
       "2021-04-13  1.399026  0.499755 -0.746623 -0.682868\n",
       "2021-04-14 -0.164900  0.114371 -1.376268 -0.023701\n",
       "2021-04-15  0.191488  0.191629  1.093550  1.274845\n",
       "2021-04-16  0.815851 -0.673989 -0.418809  1.127514\n",
       "2021-04-17 -0.490368 -0.718141  0.887755 -0.254530"
      ]
     },
     "execution_count": 13,
     "metadata": {},
     "output_type": "execute_result"
    }
   ],
   "source": [
    "df.tail()\n",
    "#this will give the last five rows of the dataset"
   ]
  },
  {
   "cell_type": "code",
   "execution_count": 15,
   "id": "2f91a2f4",
   "metadata": {},
   "outputs": [
    {
     "data": {
      "text/plain": [
       "DatetimeIndex(['2021-04-08', '2021-04-09', '2021-04-10', '2021-04-11',\n",
       "               '2021-04-12', '2021-04-13', '2021-04-14', '2021-04-15',\n",
       "               '2021-04-16', '2021-04-17'],\n",
       "              dtype='datetime64[ns]', freq='D')"
      ]
     },
     "execution_count": 15,
     "metadata": {},
     "output_type": "execute_result"
    }
   ],
   "source": [
    "df.index\n",
    "#this will return all values of our index"
   ]
  },
  {
   "cell_type": "code",
   "execution_count": 18,
   "id": "6887b649",
   "metadata": {},
   "outputs": [
    {
     "data": {
      "text/plain": [
       "Index(['A', 'B', 'C', 'D'], dtype='object')"
      ]
     },
     "execution_count": 18,
     "metadata": {},
     "output_type": "execute_result"
    }
   ],
   "source": [
    "df.columns"
   ]
  },
  {
   "cell_type": "code",
   "execution_count": 22,
   "id": "b5498ef1",
   "metadata": {},
   "outputs": [],
   "source": [
    "#df.to_numpy()\n",
    "#gives numpy representation of the data"
   ]
  },
  {
   "cell_type": "code",
   "execution_count": 23,
   "id": "5d3793aa",
   "metadata": {},
   "outputs": [
    {
     "data": {
      "text/html": [
       "<div>\n",
       "<style scoped>\n",
       "    .dataframe tbody tr th:only-of-type {\n",
       "        vertical-align: middle;\n",
       "    }\n",
       "\n",
       "    .dataframe tbody tr th {\n",
       "        vertical-align: top;\n",
       "    }\n",
       "\n",
       "    .dataframe thead th {\n",
       "        text-align: right;\n",
       "    }\n",
       "</style>\n",
       "<table border=\"1\" class=\"dataframe\">\n",
       "  <thead>\n",
       "    <tr style=\"text-align: right;\">\n",
       "      <th></th>\n",
       "      <th>A</th>\n",
       "      <th>B</th>\n",
       "      <th>C</th>\n",
       "      <th>D</th>\n",
       "    </tr>\n",
       "  </thead>\n",
       "  <tbody>\n",
       "    <tr>\n",
       "      <th>count</th>\n",
       "      <td>10.000000</td>\n",
       "      <td>10.000000</td>\n",
       "      <td>10.000000</td>\n",
       "      <td>10.000000</td>\n",
       "    </tr>\n",
       "    <tr>\n",
       "      <th>mean</th>\n",
       "      <td>0.021706</td>\n",
       "      <td>-0.184655</td>\n",
       "      <td>-0.500678</td>\n",
       "      <td>0.475466</td>\n",
       "    </tr>\n",
       "    <tr>\n",
       "      <th>std</th>\n",
       "      <td>1.042567</td>\n",
       "      <td>0.449114</td>\n",
       "      <td>0.995440</td>\n",
       "      <td>0.986695</td>\n",
       "    </tr>\n",
       "    <tr>\n",
       "      <th>min</th>\n",
       "      <td>-2.030637</td>\n",
       "      <td>-0.846299</td>\n",
       "      <td>-2.313300</td>\n",
       "      <td>-1.089530</td>\n",
       "    </tr>\n",
       "    <tr>\n",
       "      <th>25%</th>\n",
       "      <td>-0.409001</td>\n",
       "      <td>-0.597289</td>\n",
       "      <td>-0.869093</td>\n",
       "      <td>-0.196822</td>\n",
       "    </tr>\n",
       "    <tr>\n",
       "      <th>50%</th>\n",
       "      <td>0.193939</td>\n",
       "      <td>-0.082577</td>\n",
       "      <td>-0.548234</td>\n",
       "      <td>0.589780</td>\n",
       "    </tr>\n",
       "    <tr>\n",
       "      <th>75%</th>\n",
       "      <td>0.685727</td>\n",
       "      <td>0.117441</td>\n",
       "      <td>-0.199729</td>\n",
       "      <td>1.256461</td>\n",
       "    </tr>\n",
       "    <tr>\n",
       "      <th>max</th>\n",
       "      <td>1.399026</td>\n",
       "      <td>0.499755</td>\n",
       "      <td>1.093550</td>\n",
       "      <td>1.604434</td>\n",
       "    </tr>\n",
       "  </tbody>\n",
       "</table>\n",
       "</div>"
      ],
      "text/plain": [
       "               A          B          C          D\n",
       "count  10.000000  10.000000  10.000000  10.000000\n",
       "mean    0.021706  -0.184655  -0.500678   0.475466\n",
       "std     1.042567   0.449114   0.995440   0.986695\n",
       "min    -2.030637  -0.846299  -2.313300  -1.089530\n",
       "25%    -0.409001  -0.597289  -0.869093  -0.196822\n",
       "50%     0.193939  -0.082577  -0.548234   0.589780\n",
       "75%     0.685727   0.117441  -0.199729   1.256461\n",
       "max     1.399026   0.499755   1.093550   1.604434"
      ]
     },
     "execution_count": 23,
     "metadata": {},
     "output_type": "execute_result"
    }
   ],
   "source": [
    "df.describe()"
   ]
  },
  {
   "cell_type": "code",
   "execution_count": 25,
   "id": "c0746dfb",
   "metadata": {},
   "outputs": [
    {
     "data": {
      "text/html": [
       "<div>\n",
       "<style scoped>\n",
       "    .dataframe tbody tr th:only-of-type {\n",
       "        vertical-align: middle;\n",
       "    }\n",
       "\n",
       "    .dataframe tbody tr th {\n",
       "        vertical-align: top;\n",
       "    }\n",
       "\n",
       "    .dataframe thead th {\n",
       "        text-align: right;\n",
       "    }\n",
       "</style>\n",
       "<table border=\"1\" class=\"dataframe\">\n",
       "  <thead>\n",
       "    <tr style=\"text-align: right;\">\n",
       "      <th></th>\n",
       "      <th>A</th>\n",
       "      <th>B</th>\n",
       "      <th>C</th>\n",
       "      <th>D</th>\n",
       "    </tr>\n",
       "  </thead>\n",
       "  <tbody>\n",
       "    <tr>\n",
       "      <th>2021-04-09</th>\n",
       "      <td>0.196391</td>\n",
       "      <td>-0.367189</td>\n",
       "      <td>-2.313300</td>\n",
       "      <td>1.604434</td>\n",
       "    </tr>\n",
       "    <tr>\n",
       "      <th>2021-04-14</th>\n",
       "      <td>-0.164900</td>\n",
       "      <td>0.114371</td>\n",
       "      <td>-1.376268</td>\n",
       "      <td>-0.023701</td>\n",
       "    </tr>\n",
       "    <tr>\n",
       "      <th>2021-04-11</th>\n",
       "      <td>1.144954</td>\n",
       "      <td>-0.019178</td>\n",
       "      <td>-0.909916</td>\n",
       "      <td>1.201310</td>\n",
       "    </tr>\n",
       "    <tr>\n",
       "      <th>2021-04-13</th>\n",
       "      <td>1.399026</td>\n",
       "      <td>0.499755</td>\n",
       "      <td>-0.746623</td>\n",
       "      <td>-0.682868</td>\n",
       "    </tr>\n",
       "    <tr>\n",
       "      <th>2021-04-12</th>\n",
       "      <td>-2.030637</td>\n",
       "      <td>-0.145976</td>\n",
       "      <td>-0.641746</td>\n",
       "      <td>1.545143</td>\n",
       "    </tr>\n",
       "    <tr>\n",
       "      <th>2021-04-08</th>\n",
       "      <td>-1.140093</td>\n",
       "      <td>-0.846299</td>\n",
       "      <td>-0.454721</td>\n",
       "      <td>0.052045</td>\n",
       "    </tr>\n",
       "    <tr>\n",
       "      <th>2021-04-16</th>\n",
       "      <td>0.815851</td>\n",
       "      <td>-0.673989</td>\n",
       "      <td>-0.418809</td>\n",
       "      <td>1.127514</td>\n",
       "    </tr>\n",
       "    <tr>\n",
       "      <th>2021-04-10</th>\n",
       "      <td>0.295353</td>\n",
       "      <td>0.118465</td>\n",
       "      <td>-0.126702</td>\n",
       "      <td>-1.089530</td>\n",
       "    </tr>\n",
       "    <tr>\n",
       "      <th>2021-04-17</th>\n",
       "      <td>-0.490368</td>\n",
       "      <td>-0.718141</td>\n",
       "      <td>0.887755</td>\n",
       "      <td>-0.254530</td>\n",
       "    </tr>\n",
       "    <tr>\n",
       "      <th>2021-04-15</th>\n",
       "      <td>0.191488</td>\n",
       "      <td>0.191629</td>\n",
       "      <td>1.093550</td>\n",
       "      <td>1.274845</td>\n",
       "    </tr>\n",
       "  </tbody>\n",
       "</table>\n",
       "</div>"
      ],
      "text/plain": [
       "                   A         B         C         D\n",
       "2021-04-09  0.196391 -0.367189 -2.313300  1.604434\n",
       "2021-04-14 -0.164900  0.114371 -1.376268 -0.023701\n",
       "2021-04-11  1.144954 -0.019178 -0.909916  1.201310\n",
       "2021-04-13  1.399026  0.499755 -0.746623 -0.682868\n",
       "2021-04-12 -2.030637 -0.145976 -0.641746  1.545143\n",
       "2021-04-08 -1.140093 -0.846299 -0.454721  0.052045\n",
       "2021-04-16  0.815851 -0.673989 -0.418809  1.127514\n",
       "2021-04-10  0.295353  0.118465 -0.126702 -1.089530\n",
       "2021-04-17 -0.490368 -0.718141  0.887755 -0.254530\n",
       "2021-04-15  0.191488  0.191629  1.093550  1.274845"
      ]
     },
     "execution_count": 25,
     "metadata": {},
     "output_type": "execute_result"
    }
   ],
   "source": [
    "#sorting\n",
    "# df.sort_index(axis=1, ascending=False)\n",
    "# sort by values\n",
    "df.sort_values(by='C')"
   ]
  },
  {
   "cell_type": "code",
   "execution_count": 26,
   "id": "349ac3bb",
   "metadata": {},
   "outputs": [
    {
     "data": {
      "text/plain": [
       "2021-04-08   -0.454721\n",
       "2021-04-09   -2.313300\n",
       "2021-04-10   -0.126702\n",
       "2021-04-11   -0.909916\n",
       "2021-04-12   -0.641746\n",
       "2021-04-13   -0.746623\n",
       "2021-04-14   -1.376268\n",
       "2021-04-15    1.093550\n",
       "2021-04-16   -0.418809\n",
       "2021-04-17    0.887755\n",
       "Freq: D, Name: C, dtype: float64"
      ]
     },
     "execution_count": 26,
     "metadata": {},
     "output_type": "execute_result"
    }
   ],
   "source": [
    "#fetching single column\n",
    "df['C']"
   ]
  },
  {
   "cell_type": "code",
   "execution_count": 28,
   "id": "0d267880",
   "metadata": {},
   "outputs": [
    {
     "data": {
      "text/html": [
       "<div>\n",
       "<style scoped>\n",
       "    .dataframe tbody tr th:only-of-type {\n",
       "        vertical-align: middle;\n",
       "    }\n",
       "\n",
       "    .dataframe tbody tr th {\n",
       "        vertical-align: top;\n",
       "    }\n",
       "\n",
       "    .dataframe thead th {\n",
       "        text-align: right;\n",
       "    }\n",
       "</style>\n",
       "<table border=\"1\" class=\"dataframe\">\n",
       "  <thead>\n",
       "    <tr style=\"text-align: right;\">\n",
       "      <th></th>\n",
       "      <th>A</th>\n",
       "      <th>B</th>\n",
       "      <th>C</th>\n",
       "      <th>D</th>\n",
       "    </tr>\n",
       "  </thead>\n",
       "  <tbody>\n",
       "    <tr>\n",
       "      <th>2021-04-08</th>\n",
       "      <td>-1.140093</td>\n",
       "      <td>-0.846299</td>\n",
       "      <td>-0.454721</td>\n",
       "      <td>0.052045</td>\n",
       "    </tr>\n",
       "    <tr>\n",
       "      <th>2021-04-09</th>\n",
       "      <td>0.196391</td>\n",
       "      <td>-0.367189</td>\n",
       "      <td>-2.313300</td>\n",
       "      <td>1.604434</td>\n",
       "    </tr>\n",
       "    <tr>\n",
       "      <th>2021-04-10</th>\n",
       "      <td>0.295353</td>\n",
       "      <td>0.118465</td>\n",
       "      <td>-0.126702</td>\n",
       "      <td>-1.089530</td>\n",
       "    </tr>\n",
       "  </tbody>\n",
       "</table>\n",
       "</div>"
      ],
      "text/plain": [
       "                   A         B         C         D\n",
       "2021-04-08 -1.140093 -0.846299 -0.454721  0.052045\n",
       "2021-04-09  0.196391 -0.367189 -2.313300  1.604434\n",
       "2021-04-10  0.295353  0.118465 -0.126702 -1.089530"
      ]
     },
     "execution_count": 28,
     "metadata": {},
     "output_type": "execute_result"
    }
   ],
   "source": [
    "#slicing rows\n",
    "df[0:3] #this will give 3 rows"
   ]
  },
  {
   "cell_type": "code",
   "execution_count": 29,
   "id": "8289de42",
   "metadata": {},
   "outputs": [
    {
     "data": {
      "text/plain": [
       "A   -1.140093\n",
       "B   -0.846299\n",
       "C   -0.454721\n",
       "D    0.052045\n",
       "Name: 2021-04-08 00:00:00, dtype: float64"
      ]
     },
     "execution_count": 29,
     "metadata": {},
     "output_type": "execute_result"
    }
   ],
   "source": [
    "#select data using labels\n",
    "df.loc[d[0]]"
   ]
  },
  {
   "cell_type": "code",
   "execution_count": 30,
   "id": "915b0033",
   "metadata": {},
   "outputs": [
    {
     "data": {
      "text/html": [
       "<div>\n",
       "<style scoped>\n",
       "    .dataframe tbody tr th:only-of-type {\n",
       "        vertical-align: middle;\n",
       "    }\n",
       "\n",
       "    .dataframe tbody tr th {\n",
       "        vertical-align: top;\n",
       "    }\n",
       "\n",
       "    .dataframe thead th {\n",
       "        text-align: right;\n",
       "    }\n",
       "</style>\n",
       "<table border=\"1\" class=\"dataframe\">\n",
       "  <thead>\n",
       "    <tr style=\"text-align: right;\">\n",
       "      <th></th>\n",
       "      <th>A</th>\n",
       "      <th>C</th>\n",
       "    </tr>\n",
       "  </thead>\n",
       "  <tbody>\n",
       "    <tr>\n",
       "      <th>2021-04-08</th>\n",
       "      <td>-1.140093</td>\n",
       "      <td>-0.454721</td>\n",
       "    </tr>\n",
       "    <tr>\n",
       "      <th>2021-04-09</th>\n",
       "      <td>0.196391</td>\n",
       "      <td>-2.313300</td>\n",
       "    </tr>\n",
       "    <tr>\n",
       "      <th>2021-04-10</th>\n",
       "      <td>0.295353</td>\n",
       "      <td>-0.126702</td>\n",
       "    </tr>\n",
       "    <tr>\n",
       "      <th>2021-04-11</th>\n",
       "      <td>1.144954</td>\n",
       "      <td>-0.909916</td>\n",
       "    </tr>\n",
       "    <tr>\n",
       "      <th>2021-04-12</th>\n",
       "      <td>-2.030637</td>\n",
       "      <td>-0.641746</td>\n",
       "    </tr>\n",
       "    <tr>\n",
       "      <th>2021-04-13</th>\n",
       "      <td>1.399026</td>\n",
       "      <td>-0.746623</td>\n",
       "    </tr>\n",
       "    <tr>\n",
       "      <th>2021-04-14</th>\n",
       "      <td>-0.164900</td>\n",
       "      <td>-1.376268</td>\n",
       "    </tr>\n",
       "    <tr>\n",
       "      <th>2021-04-15</th>\n",
       "      <td>0.191488</td>\n",
       "      <td>1.093550</td>\n",
       "    </tr>\n",
       "    <tr>\n",
       "      <th>2021-04-16</th>\n",
       "      <td>0.815851</td>\n",
       "      <td>-0.418809</td>\n",
       "    </tr>\n",
       "    <tr>\n",
       "      <th>2021-04-17</th>\n",
       "      <td>-0.490368</td>\n",
       "      <td>0.887755</td>\n",
       "    </tr>\n",
       "  </tbody>\n",
       "</table>\n",
       "</div>"
      ],
      "text/plain": [
       "                   A         C\n",
       "2021-04-08 -1.140093 -0.454721\n",
       "2021-04-09  0.196391 -2.313300\n",
       "2021-04-10  0.295353 -0.126702\n",
       "2021-04-11  1.144954 -0.909916\n",
       "2021-04-12 -2.030637 -0.641746\n",
       "2021-04-13  1.399026 -0.746623\n",
       "2021-04-14 -0.164900 -1.376268\n",
       "2021-04-15  0.191488  1.093550\n",
       "2021-04-16  0.815851 -0.418809\n",
       "2021-04-17 -0.490368  0.887755"
      ]
     },
     "execution_count": 30,
     "metadata": {},
     "output_type": "execute_result"
    }
   ],
   "source": [
    "df.loc[:,['A','C']] #label slicing "
   ]
  },
  {
   "cell_type": "code",
   "execution_count": 31,
   "id": "469ce066",
   "metadata": {},
   "outputs": [
    {
     "data": {
      "text/html": [
       "<div>\n",
       "<style scoped>\n",
       "    .dataframe tbody tr th:only-of-type {\n",
       "        vertical-align: middle;\n",
       "    }\n",
       "\n",
       "    .dataframe tbody tr th {\n",
       "        vertical-align: top;\n",
       "    }\n",
       "\n",
       "    .dataframe thead th {\n",
       "        text-align: right;\n",
       "    }\n",
       "</style>\n",
       "<table border=\"1\" class=\"dataframe\">\n",
       "  <thead>\n",
       "    <tr style=\"text-align: right;\">\n",
       "      <th></th>\n",
       "      <th>D</th>\n",
       "      <th>C</th>\n",
       "    </tr>\n",
       "  </thead>\n",
       "  <tbody>\n",
       "    <tr>\n",
       "      <th>2021-04-08</th>\n",
       "      <td>0.052045</td>\n",
       "      <td>-0.454721</td>\n",
       "    </tr>\n",
       "    <tr>\n",
       "      <th>2021-04-09</th>\n",
       "      <td>1.604434</td>\n",
       "      <td>-2.313300</td>\n",
       "    </tr>\n",
       "    <tr>\n",
       "      <th>2021-04-10</th>\n",
       "      <td>-1.089530</td>\n",
       "      <td>-0.126702</td>\n",
       "    </tr>\n",
       "    <tr>\n",
       "      <th>2021-04-11</th>\n",
       "      <td>1.201310</td>\n",
       "      <td>-0.909916</td>\n",
       "    </tr>\n",
       "    <tr>\n",
       "      <th>2021-04-12</th>\n",
       "      <td>1.545143</td>\n",
       "      <td>-0.641746</td>\n",
       "    </tr>\n",
       "    <tr>\n",
       "      <th>2021-04-13</th>\n",
       "      <td>-0.682868</td>\n",
       "      <td>-0.746623</td>\n",
       "    </tr>\n",
       "    <tr>\n",
       "      <th>2021-04-14</th>\n",
       "      <td>-0.023701</td>\n",
       "      <td>-1.376268</td>\n",
       "    </tr>\n",
       "    <tr>\n",
       "      <th>2021-04-15</th>\n",
       "      <td>1.274845</td>\n",
       "      <td>1.093550</td>\n",
       "    </tr>\n",
       "  </tbody>\n",
       "</table>\n",
       "</div>"
      ],
      "text/plain": [
       "                   D         C\n",
       "2021-04-08  0.052045 -0.454721\n",
       "2021-04-09  1.604434 -2.313300\n",
       "2021-04-10 -1.089530 -0.126702\n",
       "2021-04-11  1.201310 -0.909916\n",
       "2021-04-12  1.545143 -0.641746\n",
       "2021-04-13 -0.682868 -0.746623\n",
       "2021-04-14 -0.023701 -1.376268\n",
       "2021-04-15  1.274845  1.093550"
      ]
     },
     "execution_count": 31,
     "metadata": {},
     "output_type": "execute_result"
    }
   ],
   "source": [
    "df.loc['20210408':'20210415',['D','C']]"
   ]
  },
  {
   "cell_type": "code",
   "execution_count": 32,
   "id": "5f95490b",
   "metadata": {},
   "outputs": [
    {
     "data": {
      "text/plain": [
       "-0.4547214165355501"
      ]
     },
     "execution_count": 32,
     "metadata": {},
     "output_type": "execute_result"
    }
   ],
   "source": [
    "#to fetch a particular value from an exact place\n",
    "df.at[d[0], 'C']"
   ]
  },
  {
   "cell_type": "code",
   "execution_count": 34,
   "id": "7d3c02b3",
   "metadata": {},
   "outputs": [
    {
     "data": {
      "text/html": [
       "<div>\n",
       "<style scoped>\n",
       "    .dataframe tbody tr th:only-of-type {\n",
       "        vertical-align: middle;\n",
       "    }\n",
       "\n",
       "    .dataframe tbody tr th {\n",
       "        vertical-align: top;\n",
       "    }\n",
       "\n",
       "    .dataframe thead th {\n",
       "        text-align: right;\n",
       "    }\n",
       "</style>\n",
       "<table border=\"1\" class=\"dataframe\">\n",
       "  <thead>\n",
       "    <tr style=\"text-align: right;\">\n",
       "      <th></th>\n",
       "      <th>A</th>\n",
       "      <th>B</th>\n",
       "      <th>C</th>\n",
       "      <th>D</th>\n",
       "    </tr>\n",
       "  </thead>\n",
       "  <tbody>\n",
       "    <tr>\n",
       "      <th>2021-04-11</th>\n",
       "      <td>1.144954</td>\n",
       "      <td>-0.019178</td>\n",
       "      <td>-0.909916</td>\n",
       "      <td>1.201310</td>\n",
       "    </tr>\n",
       "    <tr>\n",
       "      <th>2021-04-12</th>\n",
       "      <td>-2.030637</td>\n",
       "      <td>-0.145976</td>\n",
       "      <td>-0.641746</td>\n",
       "      <td>1.545143</td>\n",
       "    </tr>\n",
       "  </tbody>\n",
       "</table>\n",
       "</div>"
      ],
      "text/plain": [
       "                   A         B         C         D\n",
       "2021-04-11  1.144954 -0.019178 -0.909916  1.201310\n",
       "2021-04-12 -2.030637 -0.145976 -0.641746  1.545143"
      ]
     },
     "execution_count": 34,
     "metadata": {},
     "output_type": "execute_result"
    }
   ],
   "source": [
    "#to get all the values from third loc\n",
    "# df.iloc[3]\n",
    "#also we can slice these values\n",
    "df.iloc[3:5]"
   ]
  },
  {
   "cell_type": "code",
   "execution_count": 37,
   "id": "6425f5bd",
   "metadata": {},
   "outputs": [
    {
     "data": {
      "text/html": [
       "<div>\n",
       "<style scoped>\n",
       "    .dataframe tbody tr th:only-of-type {\n",
       "        vertical-align: middle;\n",
       "    }\n",
       "\n",
       "    .dataframe tbody tr th {\n",
       "        vertical-align: top;\n",
       "    }\n",
       "\n",
       "    .dataframe thead th {\n",
       "        text-align: right;\n",
       "    }\n",
       "</style>\n",
       "<table border=\"1\" class=\"dataframe\">\n",
       "  <thead>\n",
       "    <tr style=\"text-align: right;\">\n",
       "      <th></th>\n",
       "      <th>A</th>\n",
       "      <th>B</th>\n",
       "      <th>C</th>\n",
       "      <th>D</th>\n",
       "    </tr>\n",
       "  </thead>\n",
       "  <tbody>\n",
       "    <tr>\n",
       "      <th>2021-04-09</th>\n",
       "      <td>0.196391</td>\n",
       "      <td>-0.367189</td>\n",
       "      <td>-2.313300</td>\n",
       "      <td>1.604434</td>\n",
       "    </tr>\n",
       "    <tr>\n",
       "      <th>2021-04-10</th>\n",
       "      <td>0.295353</td>\n",
       "      <td>0.118465</td>\n",
       "      <td>-0.126702</td>\n",
       "      <td>-1.089530</td>\n",
       "    </tr>\n",
       "    <tr>\n",
       "      <th>2021-04-11</th>\n",
       "      <td>1.144954</td>\n",
       "      <td>-0.019178</td>\n",
       "      <td>-0.909916</td>\n",
       "      <td>1.201310</td>\n",
       "    </tr>\n",
       "    <tr>\n",
       "      <th>2021-04-13</th>\n",
       "      <td>1.399026</td>\n",
       "      <td>0.499755</td>\n",
       "      <td>-0.746623</td>\n",
       "      <td>-0.682868</td>\n",
       "    </tr>\n",
       "    <tr>\n",
       "      <th>2021-04-15</th>\n",
       "      <td>0.191488</td>\n",
       "      <td>0.191629</td>\n",
       "      <td>1.093550</td>\n",
       "      <td>1.274845</td>\n",
       "    </tr>\n",
       "    <tr>\n",
       "      <th>2021-04-16</th>\n",
       "      <td>0.815851</td>\n",
       "      <td>-0.673989</td>\n",
       "      <td>-0.418809</td>\n",
       "      <td>1.127514</td>\n",
       "    </tr>\n",
       "  </tbody>\n",
       "</table>\n",
       "</div>"
      ],
      "text/plain": [
       "                   A         B         C         D\n",
       "2021-04-09  0.196391 -0.367189 -2.313300  1.604434\n",
       "2021-04-10  0.295353  0.118465 -0.126702 -1.089530\n",
       "2021-04-11  1.144954 -0.019178 -0.909916  1.201310\n",
       "2021-04-13  1.399026  0.499755 -0.746623 -0.682868\n",
       "2021-04-15  0.191488  0.191629  1.093550  1.274845\n",
       "2021-04-16  0.815851 -0.673989 -0.418809  1.127514"
      ]
     },
     "execution_count": 37,
     "metadata": {},
     "output_type": "execute_result"
    }
   ],
   "source": [
    "#all values df where A>0\n",
    "df[df['A']>0]"
   ]
  },
  {
   "cell_type": "code",
   "execution_count": 38,
   "id": "bdb5ee1a",
   "metadata": {},
   "outputs": [],
   "source": [
    "df2 = df.reindex(index=d[0:4],columns=list(df.columns)+['E'])"
   ]
  },
  {
   "cell_type": "code",
   "execution_count": 41,
   "id": "dc38a279",
   "metadata": {},
   "outputs": [],
   "source": [
    "df2.loc[d[0]:d[1],'E'] = 1"
   ]
  },
  {
   "cell_type": "code",
   "execution_count": 42,
   "id": "5ca6e212",
   "metadata": {},
   "outputs": [
    {
     "data": {
      "text/html": [
       "<div>\n",
       "<style scoped>\n",
       "    .dataframe tbody tr th:only-of-type {\n",
       "        vertical-align: middle;\n",
       "    }\n",
       "\n",
       "    .dataframe tbody tr th {\n",
       "        vertical-align: top;\n",
       "    }\n",
       "\n",
       "    .dataframe thead th {\n",
       "        text-align: right;\n",
       "    }\n",
       "</style>\n",
       "<table border=\"1\" class=\"dataframe\">\n",
       "  <thead>\n",
       "    <tr style=\"text-align: right;\">\n",
       "      <th></th>\n",
       "      <th>A</th>\n",
       "      <th>B</th>\n",
       "      <th>C</th>\n",
       "      <th>D</th>\n",
       "      <th>E</th>\n",
       "    </tr>\n",
       "  </thead>\n",
       "  <tbody>\n",
       "    <tr>\n",
       "      <th>2021-04-08</th>\n",
       "      <td>-1.140093</td>\n",
       "      <td>-0.846299</td>\n",
       "      <td>-0.454721</td>\n",
       "      <td>0.052045</td>\n",
       "      <td>1.0</td>\n",
       "    </tr>\n",
       "    <tr>\n",
       "      <th>2021-04-09</th>\n",
       "      <td>0.196391</td>\n",
       "      <td>-0.367189</td>\n",
       "      <td>-2.313300</td>\n",
       "      <td>1.604434</td>\n",
       "      <td>1.0</td>\n",
       "    </tr>\n",
       "    <tr>\n",
       "      <th>2021-04-10</th>\n",
       "      <td>0.295353</td>\n",
       "      <td>0.118465</td>\n",
       "      <td>-0.126702</td>\n",
       "      <td>-1.089530</td>\n",
       "      <td>NaN</td>\n",
       "    </tr>\n",
       "    <tr>\n",
       "      <th>2021-04-11</th>\n",
       "      <td>1.144954</td>\n",
       "      <td>-0.019178</td>\n",
       "      <td>-0.909916</td>\n",
       "      <td>1.201310</td>\n",
       "      <td>NaN</td>\n",
       "    </tr>\n",
       "  </tbody>\n",
       "</table>\n",
       "</div>"
      ],
      "text/plain": [
       "                   A         B         C         D    E\n",
       "2021-04-08 -1.140093 -0.846299 -0.454721  0.052045  1.0\n",
       "2021-04-09  0.196391 -0.367189 -2.313300  1.604434  1.0\n",
       "2021-04-10  0.295353  0.118465 -0.126702 -1.089530  NaN\n",
       "2021-04-11  1.144954 -0.019178 -0.909916  1.201310  NaN"
      ]
     },
     "execution_count": 42,
     "metadata": {},
     "output_type": "execute_result"
    }
   ],
   "source": [
    "df2"
   ]
  },
  {
   "cell_type": "code",
   "execution_count": 48,
   "id": "3d3f8b23",
   "metadata": {},
   "outputs": [
    {
     "data": {
      "text/plain": [
       "A    4\n",
       "B    4\n",
       "C    4\n",
       "D    4\n",
       "E    4\n",
       "dtype: int64"
      ]
     },
     "execution_count": 48,
     "metadata": {},
     "output_type": "execute_result"
    }
   ],
   "source": [
    "# df2.isnull()\n",
    "df2.isnull().count()"
   ]
  },
  {
   "cell_type": "code",
   "execution_count": 56,
   "id": "206dda55",
   "metadata": {},
   "outputs": [
    {
     "data": {
      "text/html": [
       "<div>\n",
       "<style scoped>\n",
       "    .dataframe tbody tr th:only-of-type {\n",
       "        vertical-align: middle;\n",
       "    }\n",
       "\n",
       "    .dataframe tbody tr th {\n",
       "        vertical-align: top;\n",
       "    }\n",
       "\n",
       "    .dataframe thead th {\n",
       "        text-align: right;\n",
       "    }\n",
       "</style>\n",
       "<table border=\"1\" class=\"dataframe\">\n",
       "  <thead>\n",
       "    <tr style=\"text-align: right;\">\n",
       "      <th></th>\n",
       "      <th>A</th>\n",
       "      <th>B</th>\n",
       "      <th>C</th>\n",
       "      <th>D</th>\n",
       "      <th>E</th>\n",
       "    </tr>\n",
       "  </thead>\n",
       "  <tbody>\n",
       "    <tr>\n",
       "      <th>2021-04-08</th>\n",
       "      <td>-1.140093</td>\n",
       "      <td>-0.846299</td>\n",
       "      <td>-0.454721</td>\n",
       "      <td>0.052045</td>\n",
       "      <td>1.0</td>\n",
       "    </tr>\n",
       "    <tr>\n",
       "      <th>2021-04-09</th>\n",
       "      <td>0.196391</td>\n",
       "      <td>-0.367189</td>\n",
       "      <td>-2.313300</td>\n",
       "      <td>1.604434</td>\n",
       "      <td>1.0</td>\n",
       "    </tr>\n",
       "    <tr>\n",
       "      <th>2021-04-10</th>\n",
       "      <td>0.295353</td>\n",
       "      <td>0.118465</td>\n",
       "      <td>-0.126702</td>\n",
       "      <td>-1.089530</td>\n",
       "      <td>2.0</td>\n",
       "    </tr>\n",
       "    <tr>\n",
       "      <th>2021-04-11</th>\n",
       "      <td>1.144954</td>\n",
       "      <td>-0.019178</td>\n",
       "      <td>-0.909916</td>\n",
       "      <td>1.201310</td>\n",
       "      <td>2.0</td>\n",
       "    </tr>\n",
       "  </tbody>\n",
       "</table>\n",
       "</div>"
      ],
      "text/plain": [
       "                   A         B         C         D    E\n",
       "2021-04-08 -1.140093 -0.846299 -0.454721  0.052045  1.0\n",
       "2021-04-09  0.196391 -0.367189 -2.313300  1.604434  1.0\n",
       "2021-04-10  0.295353  0.118465 -0.126702 -1.089530  2.0\n",
       "2021-04-11  1.144954 -0.019178 -0.909916  1.201310  2.0"
      ]
     },
     "execution_count": 56,
     "metadata": {},
     "output_type": "execute_result"
    }
   ],
   "source": [
    "# drop null values\n",
    "#df2.dropna()\n",
    "#we can fill values as well\n",
    "df2.fillna(value=2)"
   ]
  },
  {
   "cell_type": "code",
   "execution_count": 58,
   "id": "85c3a13a",
   "metadata": {},
   "outputs": [
    {
     "data": {
      "text/plain": [
       "2021-04-08   -0.597267\n",
       "2021-04-09   -0.219916\n",
       "2021-04-10   -0.200604\n",
       "2021-04-11    0.354292\n",
       "2021-04-12   -0.318304\n",
       "2021-04-13    0.117323\n",
       "2021-04-14   -0.362625\n",
       "2021-04-15    0.687878\n",
       "2021-04-16    0.212642\n",
       "2021-04-17   -0.143821\n",
       "Freq: D, dtype: float64"
      ]
     },
     "execution_count": 58,
     "metadata": {},
     "output_type": "execute_result"
    }
   ],
   "source": [
    "## Pandas Operations\n",
    "df.mean(1)"
   ]
  },
  {
   "cell_type": "code",
   "execution_count": 92,
   "id": "adc62d1e",
   "metadata": {},
   "outputs": [],
   "source": [
    "df = pd.DataFrame({'From_To': ['LoNDon_paris', 'MAdrid_miLAN',\n",
    "'londON_StockhOlm',\n",
    "\n",
    "'Budapest_PaRis', 'Brussels_londOn'],\n",
    "'FlightNumber': [10045, np.nan, 10065, np.nan, 10085],\n",
    "'RecentDelays': [[23, 47], [], [24, 43, 87], [13], [67, 32]],\n",
    "'Airline': ['KLM(!)', '<Air France> (12)', '(British Airways. )',\n",
    "'12. Air France', '\"Swiss Air\"']})\n",
    "df.to_csv('dcps.csv')"
   ]
  },
  {
   "cell_type": "code",
   "execution_count": 124,
   "id": "dbafa452",
   "metadata": {},
   "outputs": [
    {
     "data": {
      "text/html": [
       "<div>\n",
       "<style scoped>\n",
       "    .dataframe tbody tr th:only-of-type {\n",
       "        vertical-align: middle;\n",
       "    }\n",
       "\n",
       "    .dataframe tbody tr th {\n",
       "        vertical-align: top;\n",
       "    }\n",
       "\n",
       "    .dataframe thead th {\n",
       "        text-align: right;\n",
       "    }\n",
       "</style>\n",
       "<table border=\"1\" class=\"dataframe\">\n",
       "  <thead>\n",
       "    <tr style=\"text-align: right;\">\n",
       "      <th></th>\n",
       "      <th>0</th>\n",
       "      <th>1</th>\n",
       "      <th>2</th>\n",
       "    </tr>\n",
       "  </thead>\n",
       "  <tbody>\n",
       "    <tr>\n",
       "      <th>0</th>\n",
       "      <td>23.0</td>\n",
       "      <td>47.0</td>\n",
       "      <td>NaN</td>\n",
       "    </tr>\n",
       "    <tr>\n",
       "      <th>1</th>\n",
       "      <td>NaN</td>\n",
       "      <td>NaN</td>\n",
       "      <td>NaN</td>\n",
       "    </tr>\n",
       "    <tr>\n",
       "      <th>2</th>\n",
       "      <td>24.0</td>\n",
       "      <td>43.0</td>\n",
       "      <td>87.0</td>\n",
       "    </tr>\n",
       "    <tr>\n",
       "      <th>3</th>\n",
       "      <td>13.0</td>\n",
       "      <td>NaN</td>\n",
       "      <td>NaN</td>\n",
       "    </tr>\n",
       "    <tr>\n",
       "      <th>4</th>\n",
       "      <td>67.0</td>\n",
       "      <td>32.0</td>\n",
       "      <td>NaN</td>\n",
       "    </tr>\n",
       "  </tbody>\n",
       "</table>\n",
       "</div>"
      ],
      "text/plain": [
       "      0     1     2\n",
       "0  23.0  47.0   NaN\n",
       "1   NaN   NaN   NaN\n",
       "2  24.0  43.0  87.0\n",
       "3  13.0   NaN   NaN\n",
       "4  67.0  32.0   NaN"
      ]
     },
     "execution_count": 124,
     "metadata": {},
     "output_type": "execute_result"
    }
   ],
   "source": [
    "delays = df['RecentDelays'].apply(pd.Series)\n",
    "delays.rename(columns = lambda x : 'delay_'+str(x))\n",
    "delays"
   ]
  },
  {
   "cell_type": "code",
   "execution_count": 93,
   "id": "d998fe20",
   "metadata": {},
   "outputs": [],
   "source": [
    "dcps = pd.read_csv('dcps.csv',sep=',')"
   ]
  },
  {
   "cell_type": "code",
   "execution_count": 94,
   "id": "3fe48870",
   "metadata": {},
   "outputs": [],
   "source": [
    "dcps.drop('Unnamed: 0',axis=1, inplace=True)\n",
    "dcps['FlightNumber']=dcps['FlightNumber'].fillna(0).apply(np.int64)"
   ]
  },
  {
   "cell_type": "code",
   "execution_count": 95,
   "id": "7f54419d",
   "metadata": {},
   "outputs": [],
   "source": [
    "dcps[['From','To']] = dcps.From_To.str.split(\"_\",expand=True)\n",
    "dcps['From']=dcps.From.str.title()\n",
    "dcps['To']=dcps.To.str.title()"
   ]
  },
  {
   "cell_type": "code",
   "execution_count": 132,
   "id": "f47024df",
   "metadata": {},
   "outputs": [
    {
     "data": {
      "text/html": [
       "<div>\n",
       "<style scoped>\n",
       "    .dataframe tbody tr th:only-of-type {\n",
       "        vertical-align: middle;\n",
       "    }\n",
       "\n",
       "    .dataframe tbody tr th {\n",
       "        vertical-align: top;\n",
       "    }\n",
       "\n",
       "    .dataframe thead th {\n",
       "        text-align: right;\n",
       "    }\n",
       "</style>\n",
       "<table border=\"1\" class=\"dataframe\">\n",
       "  <thead>\n",
       "    <tr style=\"text-align: right;\">\n",
       "      <th></th>\n",
       "      <th>FlightNumber</th>\n",
       "      <th>Airline</th>\n",
       "      <th>From</th>\n",
       "      <th>To</th>\n",
       "      <th>delay_1</th>\n",
       "      <th>delay_2</th>\n",
       "      <th>delay_3</th>\n",
       "    </tr>\n",
       "  </thead>\n",
       "  <tbody>\n",
       "    <tr>\n",
       "      <th>0</th>\n",
       "      <td>10045</td>\n",
       "      <td>KLM(!)</td>\n",
       "      <td>London</td>\n",
       "      <td>Paris</td>\n",
       "      <td>23</td>\n",
       "      <td>47</td>\n",
       "      <td>0</td>\n",
       "    </tr>\n",
       "    <tr>\n",
       "      <th>1</th>\n",
       "      <td>10055</td>\n",
       "      <td>&lt;Air France&gt; (12)</td>\n",
       "      <td>Madrid</td>\n",
       "      <td>Milan</td>\n",
       "      <td>0</td>\n",
       "      <td>0</td>\n",
       "      <td>0</td>\n",
       "    </tr>\n",
       "    <tr>\n",
       "      <th>2</th>\n",
       "      <td>10065</td>\n",
       "      <td>(British Airways. )</td>\n",
       "      <td>London</td>\n",
       "      <td>Stockholm</td>\n",
       "      <td>24</td>\n",
       "      <td>43</td>\n",
       "      <td>87</td>\n",
       "    </tr>\n",
       "    <tr>\n",
       "      <th>3</th>\n",
       "      <td>10075</td>\n",
       "      <td>12. Air France</td>\n",
       "      <td>Budapest</td>\n",
       "      <td>Paris</td>\n",
       "      <td>13</td>\n",
       "      <td>0</td>\n",
       "      <td>0</td>\n",
       "    </tr>\n",
       "    <tr>\n",
       "      <th>4</th>\n",
       "      <td>10085</td>\n",
       "      <td>\"Swiss Air\"</td>\n",
       "      <td>Brussels</td>\n",
       "      <td>London</td>\n",
       "      <td>67</td>\n",
       "      <td>32</td>\n",
       "      <td>0</td>\n",
       "    </tr>\n",
       "  </tbody>\n",
       "</table>\n",
       "</div>"
      ],
      "text/plain": [
       "   FlightNumber              Airline      From         To  delay_1  delay_2  \\\n",
       "0         10045               KLM(!)    London      Paris       23       47   \n",
       "1         10055    <Air France> (12)    Madrid      Milan        0        0   \n",
       "2         10065  (British Airways. )    London  Stockholm       24       43   \n",
       "3         10075       12. Air France  Budapest      Paris       13        0   \n",
       "4         10085          \"Swiss Air\"  Brussels     London       67       32   \n",
       "\n",
       "   delay_3  \n",
       "0        0  \n",
       "1        0  \n",
       "2       87  \n",
       "3        0  \n",
       "4        0  "
      ]
     },
     "execution_count": 132,
     "metadata": {},
     "output_type": "execute_result"
    }
   ],
   "source": [
    "dcps.iloc[[1],[1]] = 10055\n",
    "dcps.iloc[[3],[1]] = 10075\n",
    "for i in delays:\n",
    "    dcps['delay_'+str(i+1)] = delays[i].fillna(0).apply(np.int64)\n",
    "dcps.drop(['From_To','RecentDelays'],axis =1)"
   ]
  },
  {
   "cell_type": "code",
   "execution_count": null,
   "id": "8199c8a5",
   "metadata": {},
   "outputs": [],
   "source": []
  },
  {
   "cell_type": "code",
   "execution_count": null,
   "id": "463fbca3",
   "metadata": {},
   "outputs": [],
   "source": []
  },
  {
   "cell_type": "code",
   "execution_count": null,
   "id": "08a957ec",
   "metadata": {},
   "outputs": [],
   "source": []
  }
 ],
 "metadata": {
  "kernelspec": {
   "display_name": "Python 3",
   "language": "python",
   "name": "python3"
  },
  "language_info": {
   "codemirror_mode": {
    "name": "ipython",
    "version": 3
   },
   "file_extension": ".py",
   "mimetype": "text/x-python",
   "name": "python",
   "nbconvert_exporter": "python",
   "pygments_lexer": "ipython3",
   "version": "3.9.1"
  }
 },
 "nbformat": 4,
 "nbformat_minor": 5
}
